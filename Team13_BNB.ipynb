{
  "nbformat": 4,
  "nbformat_minor": 0,
  "metadata": {
    "colab": {
      "name": "Team13_BNB.ipynb",
      "provenance": [],
      "collapsed_sections": [],
      "include_colab_link": true
    },
    "kernelspec": {
      "name": "python3",
      "display_name": "Python 3"
    },
    "language_info": {
      "name": "python"
    },
    "accelerator": "GPU"
  },
  "cells": [
    {
      "cell_type": "markdown",
      "metadata": {
        "id": "view-in-github",
        "colab_type": "text"
      },
      "source": [
        "<a href=\"https://colab.research.google.com/github/Vriksha-Srihari/CD-Project/blob/main/Team13_BNB.ipynb\" target=\"_parent\"><img src=\"https://colab.research.google.com/assets/colab-badge.svg\" alt=\"Open In Colab\"/></a>"
      ]
    },
    {
      "cell_type": "markdown",
      "metadata": {
        "id": "x7uffb_Gn2Fv"
      },
      "source": [
        "Dataset used: \n",
        "Disaster Tweets\n",
        "Real or Not? NLP with Disaster Tweets challenge add-on\n",
        "\n",
        "Link to dataset: https://www.kaggle.com/vstepanenko/disaster-tweets"
      ]
    },
    {
      "cell_type": "code",
      "metadata": {
        "id": "7FJtAdWVNVNs",
        "colab": {
          "base_uri": "https://localhost:8080/"
        },
        "outputId": "ba95fcdf-2076-4e41-d69d-2c56968f4862"
      },
      "source": [
        "from google.colab import drive\n",
        "drive.mount('/content/drive')"
      ],
      "execution_count": null,
      "outputs": [
        {
          "output_type": "stream",
          "name": "stdout",
          "text": [
            "Drive already mounted at /content/drive; to attempt to forcibly remount, call drive.mount(\"/content/drive\", force_remount=True).\n"
          ]
        }
      ]
    },
    {
      "cell_type": "code",
      "metadata": {
        "id": "nKurjEAB4tMj",
        "colab": {
          "base_uri": "https://localhost:8080/"
        },
        "outputId": "42932182-4b46-48d8-cd77-9ccdd1162923"
      },
      "source": [
        "! pip install kaggle"
      ],
      "execution_count": null,
      "outputs": [
        {
          "output_type": "stream",
          "name": "stdout",
          "text": [
            "Requirement already satisfied: kaggle in /usr/local/lib/python3.7/dist-packages (1.5.12)\n",
            "Requirement already satisfied: python-dateutil in /usr/local/lib/python3.7/dist-packages (from kaggle) (2.8.2)\n",
            "Requirement already satisfied: requests in /usr/local/lib/python3.7/dist-packages (from kaggle) (2.23.0)\n",
            "Requirement already satisfied: python-slugify in /usr/local/lib/python3.7/dist-packages (from kaggle) (5.0.2)\n",
            "Requirement already satisfied: six>=1.10 in /usr/local/lib/python3.7/dist-packages (from kaggle) (1.15.0)\n",
            "Requirement already satisfied: urllib3 in /usr/local/lib/python3.7/dist-packages (from kaggle) (1.24.3)\n",
            "Requirement already satisfied: certifi in /usr/local/lib/python3.7/dist-packages (from kaggle) (2021.10.8)\n",
            "Requirement already satisfied: tqdm in /usr/local/lib/python3.7/dist-packages (from kaggle) (4.62.3)\n",
            "Requirement already satisfied: text-unidecode>=1.3 in /usr/local/lib/python3.7/dist-packages (from python-slugify->kaggle) (1.3)\n",
            "Requirement already satisfied: idna<3,>=2.5 in /usr/local/lib/python3.7/dist-packages (from requests->kaggle) (2.10)\n",
            "Requirement already satisfied: chardet<4,>=3.0.2 in /usr/local/lib/python3.7/dist-packages (from requests->kaggle) (3.0.4)\n"
          ]
        }
      ]
    },
    {
      "cell_type": "code",
      "metadata": {
        "id": "F2f-IMb140u6",
        "colab": {
          "base_uri": "https://localhost:8080/"
        },
        "outputId": "0f05bd37-c327-4e7a-84b9-f1468f0ed141"
      },
      "source": [
        "! mkdir ~/.kaggle"
      ],
      "execution_count": null,
      "outputs": [
        {
          "output_type": "stream",
          "name": "stdout",
          "text": [
            "mkdir: cannot create directory ‘/root/.kaggle’: File exists\n"
          ]
        }
      ]
    },
    {
      "cell_type": "code",
      "metadata": {
        "id": "az7rZOOK5HNV"
      },
      "source": [
        "! cp /content/drive/MyDrive/Kaggle/kaggle.json ~/.kaggle/"
      ],
      "execution_count": null,
      "outputs": []
    },
    {
      "cell_type": "code",
      "metadata": {
        "id": "fsBKgQht5Nzs"
      },
      "source": [
        "! chmod 600 ~/.kaggle/kaggle.json"
      ],
      "execution_count": null,
      "outputs": []
    },
    {
      "cell_type": "code",
      "metadata": {
        "id": "NDzF_9Mz-klJ",
        "colab": {
          "base_uri": "https://localhost:8080/"
        },
        "outputId": "2408997d-a46b-4deb-9fab-4349eda75eff"
      },
      "source": [
        "! kaggle datasets download vstepanenko/disaster-tweets"
      ],
      "execution_count": null,
      "outputs": [
        {
          "output_type": "stream",
          "name": "stdout",
          "text": [
            "disaster-tweets.zip: Skipping, found more recently modified local copy (use --force to force download)\n"
          ]
        }
      ]
    },
    {
      "cell_type": "code",
      "metadata": {
        "id": "Zf0Y3YId6Eg5",
        "colab": {
          "base_uri": "https://localhost:8080/"
        },
        "outputId": "7b8b0465-9bc4-4fdd-9bf4-71f2cbd85842"
      },
      "source": [
        "! mkdir disaster_tweets"
      ],
      "execution_count": null,
      "outputs": [
        {
          "output_type": "stream",
          "name": "stdout",
          "text": [
            "mkdir: cannot create directory ‘disaster_tweets’: File exists\n"
          ]
        }
      ]
    },
    {
      "cell_type": "code",
      "metadata": {
        "id": "HBNaFn_Hk9DB",
        "colab": {
          "base_uri": "https://localhost:8080/"
        },
        "outputId": "f4cdfca1-0279-4821-a477-ec63d2ce6ac4"
      },
      "source": [
        "! unzip disaster-tweets.zip -d disaster_tweets"
      ],
      "execution_count": null,
      "outputs": [
        {
          "output_type": "stream",
          "name": "stdout",
          "text": [
            "Archive:  disaster-tweets.zip\n",
            "replace disaster_tweets/tweets.csv? [y]es, [n]o, [A]ll, [N]one, [r]ename: y\n",
            "  inflating: disaster_tweets/tweets.csv  \n"
          ]
        }
      ]
    },
    {
      "cell_type": "code",
      "metadata": {
        "id": "ZRPwhU1oHCZ9"
      },
      "source": [
        "import csv\n",
        "import pandas as pd\n",
        "import re\n",
        "import tensorflow as tf\n",
        "import numpy as np\n",
        "import matplotlib.pyplot as plt"
      ],
      "execution_count": null,
      "outputs": []
    },
    {
      "cell_type": "markdown",
      "source": [
        "# **Module 1 - Twitter Dataset**\n",
        "\n",
        "*   Preprocessing and cleaning tweets (removing numbers, hashtags, links, punctuation) and finally tokenizing them\n",
        "\n"
      ],
      "metadata": {
        "id": "kZiKp_CNO475"
      }
    },
    {
      "cell_type": "code",
      "metadata": {
        "id": "47iH_-bPEO07"
      },
      "source": [
        "#optional execution\n",
        "with open('disaster_tweets/tweets.csv', 'r') as file:\n",
        "    reader = csv.reader(file)"
      ],
      "execution_count": null,
      "outputs": []
    },
    {
      "cell_type": "code",
      "metadata": {
        "id": "RS4Yq5XlHPB0"
      },
      "source": [
        "#converting csv file into pandas dataframe\n",
        "total_data = pd.read_csv('disaster_tweets/tweets.csv')"
      ],
      "execution_count": null,
      "outputs": []
    },
    {
      "cell_type": "code",
      "metadata": {
        "id": "tWuzcSM_H7Es"
      },
      "source": [
        "#\\w stands for \"word character\", usually [A-Za-z0-9_]\n",
        "total_data['hashtag'] = total_data['text'].apply(lambda x: re.findall(r\"#(\\w+)\", x))"
      ],
      "execution_count": null,
      "outputs": []
    },
    {
      "cell_type": "code",
      "metadata": {
        "id": "VmpZrKcrImjB",
        "colab": {
          "base_uri": "https://localhost:8080/",
          "height": 423
        },
        "outputId": "b6f81075-c4d4-4a1b-a4c5-6a7c4ab7bc06"
      },
      "source": [
        "display(total_data)"
      ],
      "execution_count": null,
      "outputs": [
        {
          "output_type": "display_data",
          "data": {
            "text/html": [
              "\n",
              "  <div id=\"df-e396a22e-3416-475a-9a01-918a5c6c20aa\">\n",
              "    <div class=\"colab-df-container\">\n",
              "      <div>\n",
              "<style scoped>\n",
              "    .dataframe tbody tr th:only-of-type {\n",
              "        vertical-align: middle;\n",
              "    }\n",
              "\n",
              "    .dataframe tbody tr th {\n",
              "        vertical-align: top;\n",
              "    }\n",
              "\n",
              "    .dataframe thead th {\n",
              "        text-align: right;\n",
              "    }\n",
              "</style>\n",
              "<table border=\"1\" class=\"dataframe\">\n",
              "  <thead>\n",
              "    <tr style=\"text-align: right;\">\n",
              "      <th></th>\n",
              "      <th>id</th>\n",
              "      <th>keyword</th>\n",
              "      <th>location</th>\n",
              "      <th>text</th>\n",
              "      <th>target</th>\n",
              "      <th>hashtag</th>\n",
              "    </tr>\n",
              "  </thead>\n",
              "  <tbody>\n",
              "    <tr>\n",
              "      <th>0</th>\n",
              "      <td>0</td>\n",
              "      <td>ablaze</td>\n",
              "      <td>NaN</td>\n",
              "      <td>Communal violence in Bhainsa, Telangana. \"Ston...</td>\n",
              "      <td>1</td>\n",
              "      <td>[]</td>\n",
              "    </tr>\n",
              "    <tr>\n",
              "      <th>1</th>\n",
              "      <td>1</td>\n",
              "      <td>ablaze</td>\n",
              "      <td>NaN</td>\n",
              "      <td>Telangana: Section 144 has been imposed in Bha...</td>\n",
              "      <td>1</td>\n",
              "      <td>[]</td>\n",
              "    </tr>\n",
              "    <tr>\n",
              "      <th>2</th>\n",
              "      <td>2</td>\n",
              "      <td>ablaze</td>\n",
              "      <td>New York City</td>\n",
              "      <td>Arsonist sets cars ablaze at dealership https:...</td>\n",
              "      <td>1</td>\n",
              "      <td>[]</td>\n",
              "    </tr>\n",
              "    <tr>\n",
              "      <th>3</th>\n",
              "      <td>3</td>\n",
              "      <td>ablaze</td>\n",
              "      <td>Morgantown, WV</td>\n",
              "      <td>Arsonist sets cars ablaze at dealership https:...</td>\n",
              "      <td>1</td>\n",
              "      <td>[]</td>\n",
              "    </tr>\n",
              "    <tr>\n",
              "      <th>4</th>\n",
              "      <td>4</td>\n",
              "      <td>ablaze</td>\n",
              "      <td>NaN</td>\n",
              "      <td>\"Lord Jesus, your love brings freedom and pard...</td>\n",
              "      <td>0</td>\n",
              "      <td>[]</td>\n",
              "    </tr>\n",
              "    <tr>\n",
              "      <th>...</th>\n",
              "      <td>...</td>\n",
              "      <td>...</td>\n",
              "      <td>...</td>\n",
              "      <td>...</td>\n",
              "      <td>...</td>\n",
              "      <td>...</td>\n",
              "    </tr>\n",
              "    <tr>\n",
              "      <th>11365</th>\n",
              "      <td>11365</td>\n",
              "      <td>wrecked</td>\n",
              "      <td>Blue State in a red sea</td>\n",
              "      <td>Media should have warned us well in advance. T...</td>\n",
              "      <td>0</td>\n",
              "      <td>[]</td>\n",
              "    </tr>\n",
              "    <tr>\n",
              "      <th>11366</th>\n",
              "      <td>11366</td>\n",
              "      <td>wrecked</td>\n",
              "      <td>arohaonces</td>\n",
              "      <td>i feel directly attacked 💀 i consider moonbin ...</td>\n",
              "      <td>0</td>\n",
              "      <td>[]</td>\n",
              "    </tr>\n",
              "    <tr>\n",
              "      <th>11367</th>\n",
              "      <td>11367</td>\n",
              "      <td>wrecked</td>\n",
              "      <td>🇵🇭</td>\n",
              "      <td>i feel directly attacked 💀 i consider moonbin ...</td>\n",
              "      <td>0</td>\n",
              "      <td>[]</td>\n",
              "    </tr>\n",
              "    <tr>\n",
              "      <th>11368</th>\n",
              "      <td>11368</td>\n",
              "      <td>wrecked</td>\n",
              "      <td>auroraborealis</td>\n",
              "      <td>ok who remember \"outcast\" nd the \"dora\" au?? T...</td>\n",
              "      <td>0</td>\n",
              "      <td>[]</td>\n",
              "    </tr>\n",
              "    <tr>\n",
              "      <th>11369</th>\n",
              "      <td>11369</td>\n",
              "      <td>wrecked</td>\n",
              "      <td>NaN</td>\n",
              "      <td>Jake Corway wrecked while running 14th at IRP.</td>\n",
              "      <td>1</td>\n",
              "      <td>[]</td>\n",
              "    </tr>\n",
              "  </tbody>\n",
              "</table>\n",
              "<p>11370 rows × 6 columns</p>\n",
              "</div>\n",
              "      <button class=\"colab-df-convert\" onclick=\"convertToInteractive('df-e396a22e-3416-475a-9a01-918a5c6c20aa')\"\n",
              "              title=\"Convert this dataframe to an interactive table.\"\n",
              "              style=\"display:none;\">\n",
              "        \n",
              "  <svg xmlns=\"http://www.w3.org/2000/svg\" height=\"24px\"viewBox=\"0 0 24 24\"\n",
              "       width=\"24px\">\n",
              "    <path d=\"M0 0h24v24H0V0z\" fill=\"none\"/>\n",
              "    <path d=\"M18.56 5.44l.94 2.06.94-2.06 2.06-.94-2.06-.94-.94-2.06-.94 2.06-2.06.94zm-11 1L8.5 8.5l.94-2.06 2.06-.94-2.06-.94L8.5 2.5l-.94 2.06-2.06.94zm10 10l.94 2.06.94-2.06 2.06-.94-2.06-.94-.94-2.06-.94 2.06-2.06.94z\"/><path d=\"M17.41 7.96l-1.37-1.37c-.4-.4-.92-.59-1.43-.59-.52 0-1.04.2-1.43.59L10.3 9.45l-7.72 7.72c-.78.78-.78 2.05 0 2.83L4 21.41c.39.39.9.59 1.41.59.51 0 1.02-.2 1.41-.59l7.78-7.78 2.81-2.81c.8-.78.8-2.07 0-2.86zM5.41 20L4 18.59l7.72-7.72 1.47 1.35L5.41 20z\"/>\n",
              "  </svg>\n",
              "      </button>\n",
              "      \n",
              "  <style>\n",
              "    .colab-df-container {\n",
              "      display:flex;\n",
              "      flex-wrap:wrap;\n",
              "      gap: 12px;\n",
              "    }\n",
              "\n",
              "    .colab-df-convert {\n",
              "      background-color: #E8F0FE;\n",
              "      border: none;\n",
              "      border-radius: 50%;\n",
              "      cursor: pointer;\n",
              "      display: none;\n",
              "      fill: #1967D2;\n",
              "      height: 32px;\n",
              "      padding: 0 0 0 0;\n",
              "      width: 32px;\n",
              "    }\n",
              "\n",
              "    .colab-df-convert:hover {\n",
              "      background-color: #E2EBFA;\n",
              "      box-shadow: 0px 1px 2px rgba(60, 64, 67, 0.3), 0px 1px 3px 1px rgba(60, 64, 67, 0.15);\n",
              "      fill: #174EA6;\n",
              "    }\n",
              "\n",
              "    [theme=dark] .colab-df-convert {\n",
              "      background-color: #3B4455;\n",
              "      fill: #D2E3FC;\n",
              "    }\n",
              "\n",
              "    [theme=dark] .colab-df-convert:hover {\n",
              "      background-color: #434B5C;\n",
              "      box-shadow: 0px 1px 3px 1px rgba(0, 0, 0, 0.15);\n",
              "      filter: drop-shadow(0px 1px 2px rgba(0, 0, 0, 0.3));\n",
              "      fill: #FFFFFF;\n",
              "    }\n",
              "  </style>\n",
              "\n",
              "      <script>\n",
              "        const buttonEl =\n",
              "          document.querySelector('#df-e396a22e-3416-475a-9a01-918a5c6c20aa button.colab-df-convert');\n",
              "        buttonEl.style.display =\n",
              "          google.colab.kernel.accessAllowed ? 'block' : 'none';\n",
              "\n",
              "        async function convertToInteractive(key) {\n",
              "          const element = document.querySelector('#df-e396a22e-3416-475a-9a01-918a5c6c20aa');\n",
              "          const dataTable =\n",
              "            await google.colab.kernel.invokeFunction('convertToInteractive',\n",
              "                                                     [key], {});\n",
              "          if (!dataTable) return;\n",
              "\n",
              "          const docLinkHtml = 'Like what you see? Visit the ' +\n",
              "            '<a target=\"_blank\" href=https://colab.research.google.com/notebooks/data_table.ipynb>data table notebook</a>'\n",
              "            + ' to learn more about interactive tables.';\n",
              "          element.innerHTML = '';\n",
              "          dataTable['output_type'] = 'display_data';\n",
              "          await google.colab.output.renderOutput(dataTable, element);\n",
              "          const docLink = document.createElement('div');\n",
              "          docLink.innerHTML = docLinkHtml;\n",
              "          element.appendChild(docLink);\n",
              "        }\n",
              "      </script>\n",
              "    </div>\n",
              "  </div>\n",
              "  "
            ],
            "text/plain": [
              "          id  keyword  ... target hashtag\n",
              "0          0   ablaze  ...      1      []\n",
              "1          1   ablaze  ...      1      []\n",
              "2          2   ablaze  ...      1      []\n",
              "3          3   ablaze  ...      1      []\n",
              "4          4   ablaze  ...      0      []\n",
              "...      ...      ...  ...    ...     ...\n",
              "11365  11365  wrecked  ...      0      []\n",
              "11366  11366  wrecked  ...      0      []\n",
              "11367  11367  wrecked  ...      0      []\n",
              "11368  11368  wrecked  ...      0      []\n",
              "11369  11369  wrecked  ...      1      []\n",
              "\n",
              "[11370 rows x 6 columns]"
            ]
          },
          "metadata": {}
        }
      ]
    },
    {
      "cell_type": "code",
      "metadata": {
        "id": "0QM1FN9-PtLd",
        "colab": {
          "base_uri": "https://localhost:8080/"
        },
        "outputId": "2ef50b47-9edb-451a-e19f-f0b3f3bb119b"
      },
      "source": [
        "#installing ekphrasis\n",
        "!pip install ekphrasis"
      ],
      "execution_count": null,
      "outputs": [
        {
          "output_type": "stream",
          "name": "stdout",
          "text": [
            "Requirement already satisfied: ekphrasis in /usr/local/lib/python3.7/dist-packages (0.5.1)\n",
            "Requirement already satisfied: matplotlib in /usr/local/lib/python3.7/dist-packages (from ekphrasis) (3.2.2)\n",
            "Requirement already satisfied: nltk in /usr/local/lib/python3.7/dist-packages (from ekphrasis) (3.2.5)\n",
            "Requirement already satisfied: termcolor in /usr/local/lib/python3.7/dist-packages (from ekphrasis) (1.1.0)\n",
            "Requirement already satisfied: tqdm in /usr/local/lib/python3.7/dist-packages (from ekphrasis) (4.62.3)\n",
            "Requirement already satisfied: numpy in /usr/local/lib/python3.7/dist-packages (from ekphrasis) (1.19.5)\n",
            "Requirement already satisfied: ftfy in /usr/local/lib/python3.7/dist-packages (from ekphrasis) (6.0.3)\n",
            "Requirement already satisfied: ujson in /usr/local/lib/python3.7/dist-packages (from ekphrasis) (5.1.0)\n",
            "Requirement already satisfied: colorama in /usr/local/lib/python3.7/dist-packages (from ekphrasis) (0.4.4)\n",
            "Requirement already satisfied: wcwidth in /usr/local/lib/python3.7/dist-packages (from ftfy->ekphrasis) (0.2.5)\n",
            "Requirement already satisfied: pyparsing!=2.0.4,!=2.1.2,!=2.1.6,>=2.0.1 in /usr/local/lib/python3.7/dist-packages (from matplotlib->ekphrasis) (3.0.6)\n",
            "Requirement already satisfied: kiwisolver>=1.0.1 in /usr/local/lib/python3.7/dist-packages (from matplotlib->ekphrasis) (1.3.2)\n",
            "Requirement already satisfied: python-dateutil>=2.1 in /usr/local/lib/python3.7/dist-packages (from matplotlib->ekphrasis) (2.8.2)\n",
            "Requirement already satisfied: cycler>=0.10 in /usr/local/lib/python3.7/dist-packages (from matplotlib->ekphrasis) (0.11.0)\n",
            "Requirement already satisfied: six>=1.5 in /usr/local/lib/python3.7/dist-packages (from python-dateutil>=2.1->matplotlib->ekphrasis) (1.15.0)\n"
          ]
        }
      ]
    },
    {
      "cell_type": "code",
      "metadata": {
        "id": "_6kGlI_HQcm_",
        "colab": {
          "base_uri": "https://localhost:8080/"
        },
        "outputId": "05476ddc-391b-47a5-bdef-bd7875ba7bab"
      },
      "source": [
        "#installing tweet-preprocessor\n",
        "! pip install tweet-preprocessor"
      ],
      "execution_count": null,
      "outputs": [
        {
          "output_type": "stream",
          "name": "stdout",
          "text": [
            "Requirement already satisfied: tweet-preprocessor in /usr/local/lib/python3.7/dist-packages (0.6.0)\n"
          ]
        }
      ]
    },
    {
      "cell_type": "code",
      "metadata": {
        "id": "PPUjAyvkQxhR"
      },
      "source": [
        "import preprocessor as p\n",
        "#forming a separate feature for cleaned tweets\n",
        "for i,v in enumerate(total_data['text']):\n",
        "    total_data.loc[i,'cleaned'] = p.clean(v) #code was wrong, corrected now"
      ],
      "execution_count": null,
      "outputs": []
    },
    {
      "cell_type": "code",
      "source": [
        "display(total_data)"
      ],
      "metadata": {
        "colab": {
          "base_uri": "https://localhost:8080/",
          "height": 423
        },
        "id": "V0ggjJD1Y08H",
        "outputId": "7be1056c-c8bf-4c6b-9f20-9ee525145f3c"
      },
      "execution_count": null,
      "outputs": [
        {
          "output_type": "display_data",
          "data": {
            "text/html": [
              "\n",
              "  <div id=\"df-81008c00-c17a-4a69-b769-c51c7b82aa80\">\n",
              "    <div class=\"colab-df-container\">\n",
              "      <div>\n",
              "<style scoped>\n",
              "    .dataframe tbody tr th:only-of-type {\n",
              "        vertical-align: middle;\n",
              "    }\n",
              "\n",
              "    .dataframe tbody tr th {\n",
              "        vertical-align: top;\n",
              "    }\n",
              "\n",
              "    .dataframe thead th {\n",
              "        text-align: right;\n",
              "    }\n",
              "</style>\n",
              "<table border=\"1\" class=\"dataframe\">\n",
              "  <thead>\n",
              "    <tr style=\"text-align: right;\">\n",
              "      <th></th>\n",
              "      <th>id</th>\n",
              "      <th>keyword</th>\n",
              "      <th>location</th>\n",
              "      <th>text</th>\n",
              "      <th>target</th>\n",
              "      <th>hashtag</th>\n",
              "      <th>cleaned</th>\n",
              "    </tr>\n",
              "  </thead>\n",
              "  <tbody>\n",
              "    <tr>\n",
              "      <th>0</th>\n",
              "      <td>0</td>\n",
              "      <td>ablaze</td>\n",
              "      <td>NaN</td>\n",
              "      <td>Communal violence in Bhainsa, Telangana. \"Ston...</td>\n",
              "      <td>1</td>\n",
              "      <td>[]</td>\n",
              "      <td>Communal violence in Bhainsa, Telangana. \"Ston...</td>\n",
              "    </tr>\n",
              "    <tr>\n",
              "      <th>1</th>\n",
              "      <td>1</td>\n",
              "      <td>ablaze</td>\n",
              "      <td>NaN</td>\n",
              "      <td>Telangana: Section 144 has been imposed in Bha...</td>\n",
              "      <td>1</td>\n",
              "      <td>[]</td>\n",
              "      <td>Telangana: Section has been imposed in Bhainsa...</td>\n",
              "    </tr>\n",
              "    <tr>\n",
              "      <th>2</th>\n",
              "      <td>2</td>\n",
              "      <td>ablaze</td>\n",
              "      <td>New York City</td>\n",
              "      <td>Arsonist sets cars ablaze at dealership https:...</td>\n",
              "      <td>1</td>\n",
              "      <td>[]</td>\n",
              "      <td>Arsonist sets cars ablaze at dealership</td>\n",
              "    </tr>\n",
              "    <tr>\n",
              "      <th>3</th>\n",
              "      <td>3</td>\n",
              "      <td>ablaze</td>\n",
              "      <td>Morgantown, WV</td>\n",
              "      <td>Arsonist sets cars ablaze at dealership https:...</td>\n",
              "      <td>1</td>\n",
              "      <td>[]</td>\n",
              "      <td>Arsonist sets cars ablaze at dealership</td>\n",
              "    </tr>\n",
              "    <tr>\n",
              "      <th>4</th>\n",
              "      <td>4</td>\n",
              "      <td>ablaze</td>\n",
              "      <td>NaN</td>\n",
              "      <td>\"Lord Jesus, your love brings freedom and pard...</td>\n",
              "      <td>0</td>\n",
              "      <td>[]</td>\n",
              "      <td>\"Lord Jesus, your love brings freedom and pard...</td>\n",
              "    </tr>\n",
              "    <tr>\n",
              "      <th>...</th>\n",
              "      <td>...</td>\n",
              "      <td>...</td>\n",
              "      <td>...</td>\n",
              "      <td>...</td>\n",
              "      <td>...</td>\n",
              "      <td>...</td>\n",
              "      <td>...</td>\n",
              "    </tr>\n",
              "    <tr>\n",
              "      <th>11365</th>\n",
              "      <td>11365</td>\n",
              "      <td>wrecked</td>\n",
              "      <td>Blue State in a red sea</td>\n",
              "      <td>Media should have warned us well in advance. T...</td>\n",
              "      <td>0</td>\n",
              "      <td>[]</td>\n",
              "      <td>Media should have warned us well in advance. T...</td>\n",
              "    </tr>\n",
              "    <tr>\n",
              "      <th>11366</th>\n",
              "      <td>11366</td>\n",
              "      <td>wrecked</td>\n",
              "      <td>arohaonces</td>\n",
              "      <td>i feel directly attacked 💀 i consider moonbin ...</td>\n",
              "      <td>0</td>\n",
              "      <td>[]</td>\n",
              "      <td>i feel directly attacked i consider moonbin &amp;a...</td>\n",
              "    </tr>\n",
              "    <tr>\n",
              "      <th>11367</th>\n",
              "      <td>11367</td>\n",
              "      <td>wrecked</td>\n",
              "      <td>🇵🇭</td>\n",
              "      <td>i feel directly attacked 💀 i consider moonbin ...</td>\n",
              "      <td>0</td>\n",
              "      <td>[]</td>\n",
              "      <td>i feel directly attacked i consider moonbin &amp;a...</td>\n",
              "    </tr>\n",
              "    <tr>\n",
              "      <th>11368</th>\n",
              "      <td>11368</td>\n",
              "      <td>wrecked</td>\n",
              "      <td>auroraborealis</td>\n",
              "      <td>ok who remember \"outcast\" nd the \"dora\" au?? T...</td>\n",
              "      <td>0</td>\n",
              "      <td>[]</td>\n",
              "      <td>ok who remember \"outcast\" nd the \"dora\" au?? T...</td>\n",
              "    </tr>\n",
              "    <tr>\n",
              "      <th>11369</th>\n",
              "      <td>11369</td>\n",
              "      <td>wrecked</td>\n",
              "      <td>NaN</td>\n",
              "      <td>Jake Corway wrecked while running 14th at IRP.</td>\n",
              "      <td>1</td>\n",
              "      <td>[]</td>\n",
              "      <td>Jake Corway wrecked while running th at IRP.</td>\n",
              "    </tr>\n",
              "  </tbody>\n",
              "</table>\n",
              "<p>11370 rows × 7 columns</p>\n",
              "</div>\n",
              "      <button class=\"colab-df-convert\" onclick=\"convertToInteractive('df-81008c00-c17a-4a69-b769-c51c7b82aa80')\"\n",
              "              title=\"Convert this dataframe to an interactive table.\"\n",
              "              style=\"display:none;\">\n",
              "        \n",
              "  <svg xmlns=\"http://www.w3.org/2000/svg\" height=\"24px\"viewBox=\"0 0 24 24\"\n",
              "       width=\"24px\">\n",
              "    <path d=\"M0 0h24v24H0V0z\" fill=\"none\"/>\n",
              "    <path d=\"M18.56 5.44l.94 2.06.94-2.06 2.06-.94-2.06-.94-.94-2.06-.94 2.06-2.06.94zm-11 1L8.5 8.5l.94-2.06 2.06-.94-2.06-.94L8.5 2.5l-.94 2.06-2.06.94zm10 10l.94 2.06.94-2.06 2.06-.94-2.06-.94-.94-2.06-.94 2.06-2.06.94z\"/><path d=\"M17.41 7.96l-1.37-1.37c-.4-.4-.92-.59-1.43-.59-.52 0-1.04.2-1.43.59L10.3 9.45l-7.72 7.72c-.78.78-.78 2.05 0 2.83L4 21.41c.39.39.9.59 1.41.59.51 0 1.02-.2 1.41-.59l7.78-7.78 2.81-2.81c.8-.78.8-2.07 0-2.86zM5.41 20L4 18.59l7.72-7.72 1.47 1.35L5.41 20z\"/>\n",
              "  </svg>\n",
              "      </button>\n",
              "      \n",
              "  <style>\n",
              "    .colab-df-container {\n",
              "      display:flex;\n",
              "      flex-wrap:wrap;\n",
              "      gap: 12px;\n",
              "    }\n",
              "\n",
              "    .colab-df-convert {\n",
              "      background-color: #E8F0FE;\n",
              "      border: none;\n",
              "      border-radius: 50%;\n",
              "      cursor: pointer;\n",
              "      display: none;\n",
              "      fill: #1967D2;\n",
              "      height: 32px;\n",
              "      padding: 0 0 0 0;\n",
              "      width: 32px;\n",
              "    }\n",
              "\n",
              "    .colab-df-convert:hover {\n",
              "      background-color: #E2EBFA;\n",
              "      box-shadow: 0px 1px 2px rgba(60, 64, 67, 0.3), 0px 1px 3px 1px rgba(60, 64, 67, 0.15);\n",
              "      fill: #174EA6;\n",
              "    }\n",
              "\n",
              "    [theme=dark] .colab-df-convert {\n",
              "      background-color: #3B4455;\n",
              "      fill: #D2E3FC;\n",
              "    }\n",
              "\n",
              "    [theme=dark] .colab-df-convert:hover {\n",
              "      background-color: #434B5C;\n",
              "      box-shadow: 0px 1px 3px 1px rgba(0, 0, 0, 0.15);\n",
              "      filter: drop-shadow(0px 1px 2px rgba(0, 0, 0, 0.3));\n",
              "      fill: #FFFFFF;\n",
              "    }\n",
              "  </style>\n",
              "\n",
              "      <script>\n",
              "        const buttonEl =\n",
              "          document.querySelector('#df-81008c00-c17a-4a69-b769-c51c7b82aa80 button.colab-df-convert');\n",
              "        buttonEl.style.display =\n",
              "          google.colab.kernel.accessAllowed ? 'block' : 'none';\n",
              "\n",
              "        async function convertToInteractive(key) {\n",
              "          const element = document.querySelector('#df-81008c00-c17a-4a69-b769-c51c7b82aa80');\n",
              "          const dataTable =\n",
              "            await google.colab.kernel.invokeFunction('convertToInteractive',\n",
              "                                                     [key], {});\n",
              "          if (!dataTable) return;\n",
              "\n",
              "          const docLinkHtml = 'Like what you see? Visit the ' +\n",
              "            '<a target=\"_blank\" href=https://colab.research.google.com/notebooks/data_table.ipynb>data table notebook</a>'\n",
              "            + ' to learn more about interactive tables.';\n",
              "          element.innerHTML = '';\n",
              "          dataTable['output_type'] = 'display_data';\n",
              "          await google.colab.output.renderOutput(dataTable, element);\n",
              "          const docLink = document.createElement('div');\n",
              "          docLink.innerHTML = docLinkHtml;\n",
              "          element.appendChild(docLink);\n",
              "        }\n",
              "      </script>\n",
              "    </div>\n",
              "  </div>\n",
              "  "
            ],
            "text/plain": [
              "          id  ...                                            cleaned\n",
              "0          0  ...  Communal violence in Bhainsa, Telangana. \"Ston...\n",
              "1          1  ...  Telangana: Section has been imposed in Bhainsa...\n",
              "2          2  ...            Arsonist sets cars ablaze at dealership\n",
              "3          3  ...            Arsonist sets cars ablaze at dealership\n",
              "4          4  ...  \"Lord Jesus, your love brings freedom and pard...\n",
              "...      ...  ...                                                ...\n",
              "11365  11365  ...  Media should have warned us well in advance. T...\n",
              "11366  11366  ...  i feel directly attacked i consider moonbin &a...\n",
              "11367  11367  ...  i feel directly attacked i consider moonbin &a...\n",
              "11368  11368  ...  ok who remember \"outcast\" nd the \"dora\" au?? T...\n",
              "11369  11369  ...       Jake Corway wrecked while running th at IRP.\n",
              "\n",
              "[11370 rows x 7 columns]"
            ]
          },
          "metadata": {}
        }
      ]
    },
    {
      "cell_type": "code",
      "metadata": {
        "id": "bVbSf3lbN2PI",
        "colab": {
          "base_uri": "https://localhost:8080/"
        },
        "outputId": "617ef67b-747f-43b5-a682-d8ac9c728dd3"
      },
      "source": [
        "#important libraries for preprocessing using NLTK\n",
        "import nltk\n",
        "from nltk import word_tokenize, FreqDist\n",
        "from nltk.corpus import stopwords\n",
        "from nltk.stem import WordNetLemmatizer\n",
        "nltk.download\n",
        "nltk.download('wordnet')\n",
        "nltk.download('stopwords')\n",
        "from nltk.tokenize import TweetTokenizer"
      ],
      "execution_count": null,
      "outputs": [
        {
          "output_type": "stream",
          "name": "stdout",
          "text": [
            "[nltk_data] Downloading package wordnet to /root/nltk_data...\n",
            "[nltk_data]   Package wordnet is already up-to-date!\n",
            "[nltk_data] Downloading package stopwords to /root/nltk_data...\n",
            "[nltk_data]   Package stopwords is already up-to-date!\n"
          ]
        }
      ]
    },
    {
      "cell_type": "code",
      "metadata": {
        "id": "5kcOqAN3RpQM"
      },
      "source": [
        "def preprocess_data(data):\n",
        " #removes numbers\n",
        " data = data.astype(str).str.replace('\\d+', '')\n",
        " lemmatizer = nltk.stem.WordNetLemmatizer()\n",
        " w_tokenizer =  TweetTokenizer()\n",
        " \n",
        " def lemmatize_text(text):\n",
        "  return [(lemmatizer.lemmatize(w)) for w \\\n",
        "                       in w_tokenizer.tokenize((text))]\n",
        "\n",
        " def remove_punctuation(words):\n",
        "  new_words = []\n",
        "  for word in words:\n",
        "    new_word = re.sub(r'[^\\w\\s]', '', (word))\n",
        "    if new_word != '':\n",
        "        new_words.append(new_word)\n",
        "  return new_words\n",
        "\n",
        " words = data.apply(lemmatize_text)\n",
        " words = words.apply(remove_punctuation)\n",
        " return pd.DataFrame(words)"
      ],
      "execution_count": null,
      "outputs": []
    },
    {
      "cell_type": "code",
      "metadata": {
        "id": "D6No7lf1Ub3v"
      },
      "source": [
        "pre_tweets = preprocess_data(total_data['cleaned'])\n",
        "total_data['cleaned'] = pre_tweets #tokenized tweets"
      ],
      "execution_count": null,
      "outputs": []
    },
    {
      "cell_type": "code",
      "metadata": {
        "id": "xnK3uaW9P8oE"
      },
      "source": [
        "l = [] #list containing tweets with all tokens joined\n",
        "for lists in total_data['cleaned']:\n",
        "  l.append(' '.join(lists))"
      ],
      "execution_count": null,
      "outputs": []
    },
    {
      "cell_type": "code",
      "metadata": {
        "id": "7EAzleROQzlc",
        "colab": {
          "base_uri": "https://localhost:8080/",
          "height": 423
        },
        "outputId": "b25c487e-b44c-445e-c663-458169231326"
      },
      "source": [
        "display(total_data)"
      ],
      "execution_count": null,
      "outputs": [
        {
          "output_type": "display_data",
          "data": {
            "text/html": [
              "\n",
              "  <div id=\"df-4c30aef4-b437-4ee8-8c4a-cf215d246a63\">\n",
              "    <div class=\"colab-df-container\">\n",
              "      <div>\n",
              "<style scoped>\n",
              "    .dataframe tbody tr th:only-of-type {\n",
              "        vertical-align: middle;\n",
              "    }\n",
              "\n",
              "    .dataframe tbody tr th {\n",
              "        vertical-align: top;\n",
              "    }\n",
              "\n",
              "    .dataframe thead th {\n",
              "        text-align: right;\n",
              "    }\n",
              "</style>\n",
              "<table border=\"1\" class=\"dataframe\">\n",
              "  <thead>\n",
              "    <tr style=\"text-align: right;\">\n",
              "      <th></th>\n",
              "      <th>id</th>\n",
              "      <th>keyword</th>\n",
              "      <th>location</th>\n",
              "      <th>text</th>\n",
              "      <th>target</th>\n",
              "      <th>hashtag</th>\n",
              "      <th>cleaned</th>\n",
              "    </tr>\n",
              "  </thead>\n",
              "  <tbody>\n",
              "    <tr>\n",
              "      <th>0</th>\n",
              "      <td>0</td>\n",
              "      <td>ablaze</td>\n",
              "      <td>NaN</td>\n",
              "      <td>Communal violence in Bhainsa, Telangana. \"Ston...</td>\n",
              "      <td>1</td>\n",
              "      <td>[]</td>\n",
              "      <td>[Communal, violence, in, Bhainsa, Telangana, S...</td>\n",
              "    </tr>\n",
              "    <tr>\n",
              "      <th>1</th>\n",
              "      <td>1</td>\n",
              "      <td>ablaze</td>\n",
              "      <td>NaN</td>\n",
              "      <td>Telangana: Section 144 has been imposed in Bha...</td>\n",
              "      <td>1</td>\n",
              "      <td>[]</td>\n",
              "      <td>[Telangana, Section, ha, been, imposed, in, Bh...</td>\n",
              "    </tr>\n",
              "    <tr>\n",
              "      <th>2</th>\n",
              "      <td>2</td>\n",
              "      <td>ablaze</td>\n",
              "      <td>New York City</td>\n",
              "      <td>Arsonist sets cars ablaze at dealership https:...</td>\n",
              "      <td>1</td>\n",
              "      <td>[]</td>\n",
              "      <td>[Arsonist, set, car, ablaze, at, dealership]</td>\n",
              "    </tr>\n",
              "    <tr>\n",
              "      <th>3</th>\n",
              "      <td>3</td>\n",
              "      <td>ablaze</td>\n",
              "      <td>Morgantown, WV</td>\n",
              "      <td>Arsonist sets cars ablaze at dealership https:...</td>\n",
              "      <td>1</td>\n",
              "      <td>[]</td>\n",
              "      <td>[Arsonist, set, car, ablaze, at, dealership]</td>\n",
              "    </tr>\n",
              "    <tr>\n",
              "      <th>4</th>\n",
              "      <td>4</td>\n",
              "      <td>ablaze</td>\n",
              "      <td>NaN</td>\n",
              "      <td>\"Lord Jesus, your love brings freedom and pard...</td>\n",
              "      <td>0</td>\n",
              "      <td>[]</td>\n",
              "      <td>[Lord, Jesus, your, love, brings, freedom, and...</td>\n",
              "    </tr>\n",
              "    <tr>\n",
              "      <th>...</th>\n",
              "      <td>...</td>\n",
              "      <td>...</td>\n",
              "      <td>...</td>\n",
              "      <td>...</td>\n",
              "      <td>...</td>\n",
              "      <td>...</td>\n",
              "      <td>...</td>\n",
              "    </tr>\n",
              "    <tr>\n",
              "      <th>11365</th>\n",
              "      <td>11365</td>\n",
              "      <td>wrecked</td>\n",
              "      <td>Blue State in a red sea</td>\n",
              "      <td>Media should have warned us well in advance. T...</td>\n",
              "      <td>0</td>\n",
              "      <td>[]</td>\n",
              "      <td>[Media, should, have, warned, u, well, in, adv...</td>\n",
              "    </tr>\n",
              "    <tr>\n",
              "      <th>11366</th>\n",
              "      <td>11366</td>\n",
              "      <td>wrecked</td>\n",
              "      <td>arohaonces</td>\n",
              "      <td>i feel directly attacked 💀 i consider moonbin ...</td>\n",
              "      <td>0</td>\n",
              "      <td>[]</td>\n",
              "      <td>[i, feel, directly, attacked, i, consider, moo...</td>\n",
              "    </tr>\n",
              "    <tr>\n",
              "      <th>11367</th>\n",
              "      <td>11367</td>\n",
              "      <td>wrecked</td>\n",
              "      <td>🇵🇭</td>\n",
              "      <td>i feel directly attacked 💀 i consider moonbin ...</td>\n",
              "      <td>0</td>\n",
              "      <td>[]</td>\n",
              "      <td>[i, feel, directly, attacked, i, consider, moo...</td>\n",
              "    </tr>\n",
              "    <tr>\n",
              "      <th>11368</th>\n",
              "      <td>11368</td>\n",
              "      <td>wrecked</td>\n",
              "      <td>auroraborealis</td>\n",
              "      <td>ok who remember \"outcast\" nd the \"dora\" au?? T...</td>\n",
              "      <td>0</td>\n",
              "      <td>[]</td>\n",
              "      <td>[ok, who, remember, outcast, nd, the, dora, au...</td>\n",
              "    </tr>\n",
              "    <tr>\n",
              "      <th>11369</th>\n",
              "      <td>11369</td>\n",
              "      <td>wrecked</td>\n",
              "      <td>NaN</td>\n",
              "      <td>Jake Corway wrecked while running 14th at IRP.</td>\n",
              "      <td>1</td>\n",
              "      <td>[]</td>\n",
              "      <td>[Jake, Corway, wrecked, while, running, th, at...</td>\n",
              "    </tr>\n",
              "  </tbody>\n",
              "</table>\n",
              "<p>11370 rows × 7 columns</p>\n",
              "</div>\n",
              "      <button class=\"colab-df-convert\" onclick=\"convertToInteractive('df-4c30aef4-b437-4ee8-8c4a-cf215d246a63')\"\n",
              "              title=\"Convert this dataframe to an interactive table.\"\n",
              "              style=\"display:none;\">\n",
              "        \n",
              "  <svg xmlns=\"http://www.w3.org/2000/svg\" height=\"24px\"viewBox=\"0 0 24 24\"\n",
              "       width=\"24px\">\n",
              "    <path d=\"M0 0h24v24H0V0z\" fill=\"none\"/>\n",
              "    <path d=\"M18.56 5.44l.94 2.06.94-2.06 2.06-.94-2.06-.94-.94-2.06-.94 2.06-2.06.94zm-11 1L8.5 8.5l.94-2.06 2.06-.94-2.06-.94L8.5 2.5l-.94 2.06-2.06.94zm10 10l.94 2.06.94-2.06 2.06-.94-2.06-.94-.94-2.06-.94 2.06-2.06.94z\"/><path d=\"M17.41 7.96l-1.37-1.37c-.4-.4-.92-.59-1.43-.59-.52 0-1.04.2-1.43.59L10.3 9.45l-7.72 7.72c-.78.78-.78 2.05 0 2.83L4 21.41c.39.39.9.59 1.41.59.51 0 1.02-.2 1.41-.59l7.78-7.78 2.81-2.81c.8-.78.8-2.07 0-2.86zM5.41 20L4 18.59l7.72-7.72 1.47 1.35L5.41 20z\"/>\n",
              "  </svg>\n",
              "      </button>\n",
              "      \n",
              "  <style>\n",
              "    .colab-df-container {\n",
              "      display:flex;\n",
              "      flex-wrap:wrap;\n",
              "      gap: 12px;\n",
              "    }\n",
              "\n",
              "    .colab-df-convert {\n",
              "      background-color: #E8F0FE;\n",
              "      border: none;\n",
              "      border-radius: 50%;\n",
              "      cursor: pointer;\n",
              "      display: none;\n",
              "      fill: #1967D2;\n",
              "      height: 32px;\n",
              "      padding: 0 0 0 0;\n",
              "      width: 32px;\n",
              "    }\n",
              "\n",
              "    .colab-df-convert:hover {\n",
              "      background-color: #E2EBFA;\n",
              "      box-shadow: 0px 1px 2px rgba(60, 64, 67, 0.3), 0px 1px 3px 1px rgba(60, 64, 67, 0.15);\n",
              "      fill: #174EA6;\n",
              "    }\n",
              "\n",
              "    [theme=dark] .colab-df-convert {\n",
              "      background-color: #3B4455;\n",
              "      fill: #D2E3FC;\n",
              "    }\n",
              "\n",
              "    [theme=dark] .colab-df-convert:hover {\n",
              "      background-color: #434B5C;\n",
              "      box-shadow: 0px 1px 3px 1px rgba(0, 0, 0, 0.15);\n",
              "      filter: drop-shadow(0px 1px 2px rgba(0, 0, 0, 0.3));\n",
              "      fill: #FFFFFF;\n",
              "    }\n",
              "  </style>\n",
              "\n",
              "      <script>\n",
              "        const buttonEl =\n",
              "          document.querySelector('#df-4c30aef4-b437-4ee8-8c4a-cf215d246a63 button.colab-df-convert');\n",
              "        buttonEl.style.display =\n",
              "          google.colab.kernel.accessAllowed ? 'block' : 'none';\n",
              "\n",
              "        async function convertToInteractive(key) {\n",
              "          const element = document.querySelector('#df-4c30aef4-b437-4ee8-8c4a-cf215d246a63');\n",
              "          const dataTable =\n",
              "            await google.colab.kernel.invokeFunction('convertToInteractive',\n",
              "                                                     [key], {});\n",
              "          if (!dataTable) return;\n",
              "\n",
              "          const docLinkHtml = 'Like what you see? Visit the ' +\n",
              "            '<a target=\"_blank\" href=https://colab.research.google.com/notebooks/data_table.ipynb>data table notebook</a>'\n",
              "            + ' to learn more about interactive tables.';\n",
              "          element.innerHTML = '';\n",
              "          dataTable['output_type'] = 'display_data';\n",
              "          await google.colab.output.renderOutput(dataTable, element);\n",
              "          const docLink = document.createElement('div');\n",
              "          docLink.innerHTML = docLinkHtml;\n",
              "          element.appendChild(docLink);\n",
              "        }\n",
              "      </script>\n",
              "    </div>\n",
              "  </div>\n",
              "  "
            ],
            "text/plain": [
              "          id  ...                                            cleaned\n",
              "0          0  ...  [Communal, violence, in, Bhainsa, Telangana, S...\n",
              "1          1  ...  [Telangana, Section, ha, been, imposed, in, Bh...\n",
              "2          2  ...       [Arsonist, set, car, ablaze, at, dealership]\n",
              "3          3  ...       [Arsonist, set, car, ablaze, at, dealership]\n",
              "4          4  ...  [Lord, Jesus, your, love, brings, freedom, and...\n",
              "...      ...  ...                                                ...\n",
              "11365  11365  ...  [Media, should, have, warned, u, well, in, adv...\n",
              "11366  11366  ...  [i, feel, directly, attacked, i, consider, moo...\n",
              "11367  11367  ...  [i, feel, directly, attacked, i, consider, moo...\n",
              "11368  11368  ...  [ok, who, remember, outcast, nd, the, dora, au...\n",
              "11369  11369  ...  [Jake, Corway, wrecked, while, running, th, at...\n",
              "\n",
              "[11370 rows x 7 columns]"
            ]
          },
          "metadata": {}
        }
      ]
    },
    {
      "cell_type": "markdown",
      "source": [
        "# **Module 2 - Machine Learning Model (Automated Tweets Classifier)**\n",
        "\n",
        "\n",
        "*   Classifying which tweets are disaster relevant and which aren't\n",
        "*   Using Bernoulli Naive Bayes Classifier (good for discrete & binary data)\n",
        "\n"
      ],
      "metadata": {
        "id": "RR63bpOwOJTw"
      }
    },
    {
      "cell_type": "code",
      "metadata": {
        "id": "uIdfqY50K43z"
      },
      "source": [
        "#converts a collection of text documents to a matrix of token counts\n",
        "#used to transform a given text into a vector on the basis of the frequency (count) of each word that occurs in the entire text \n",
        "from sklearn.feature_extraction.text import CountVectorizer\n",
        "cv = CountVectorizer()\n",
        "x = cv.fit_transform(l).toarray()"
      ],
      "execution_count": null,
      "outputs": []
    },
    {
      "cell_type": "code",
      "metadata": {
        "id": "NtVwXVX7QYP_",
        "colab": {
          "base_uri": "https://localhost:8080/",
          "height": 156
        },
        "outputId": "aa6e68c8-ba25-4871-fe86-136fde3ff8ba"
      },
      "source": [
        "display(x)\n",
        "display(type(x))"
      ],
      "execution_count": null,
      "outputs": [
        {
          "output_type": "display_data",
          "data": {
            "text/plain": [
              "array([[0, 0, 0, ..., 0, 0, 0],\n",
              "       [0, 0, 0, ..., 0, 0, 0],\n",
              "       [0, 0, 0, ..., 0, 0, 0],\n",
              "       ...,\n",
              "       [0, 0, 0, ..., 0, 0, 0],\n",
              "       [0, 0, 0, ..., 0, 0, 0],\n",
              "       [0, 0, 0, ..., 0, 0, 0]])"
            ]
          },
          "metadata": {}
        },
        {
          "output_type": "display_data",
          "data": {
            "text/plain": [
              "numpy.ndarray"
            ]
          },
          "metadata": {}
        }
      ]
    },
    {
      "cell_type": "code",
      "metadata": {
        "id": "Wop3AFIBJm2V"
      },
      "source": [
        "#splitting current dataset into a train and test dataset (80%-20%)\n",
        "from sklearn.model_selection import train_test_split\n",
        "train_text , test_text , train_target , test_target = train_test_split(x, total_data['target'], test_size=0.2, random_state=2020)"
      ],
      "execution_count": null,
      "outputs": []
    },
    {
      "cell_type": "code",
      "metadata": {
        "id": "05wHKGAj_DCs",
        "colab": {
          "base_uri": "https://localhost:8080/"
        },
        "outputId": "f8571f92-0205-43bf-e2fe-9744817e0973"
      },
      "source": [
        "print(type(train_text))"
      ],
      "execution_count": null,
      "outputs": [
        {
          "output_type": "stream",
          "name": "stdout",
          "text": [
            "<class 'numpy.ndarray'>\n"
          ]
        }
      ]
    },
    {
      "cell_type": "code",
      "metadata": {
        "id": "Pf40d8RAdt3P"
      },
      "source": [
        "from sklearn.naive_bayes import BernoulliNB\n",
        "model = BernoulliNB()\n",
        "\n",
        "hist = model.fit(train_text, train_target)"
      ],
      "execution_count": null,
      "outputs": []
    },
    {
      "cell_type": "code",
      "metadata": {
        "id": "WlYcNUXmMSiA",
        "colab": {
          "base_uri": "https://localhost:8080/"
        },
        "outputId": "f52062f9-3f09-4e46-cf63-618a99de0469"
      },
      "source": [
        "from sklearn import metrics\n",
        "#get predictions\n",
        "model_pred = model.predict(test_text)\n",
        "\n",
        "#calculate the accuracy \n",
        "model_score = metrics.accuracy_score(test_target, model_pred)\n",
        "\n",
        "print('NaiveBayes Model Score: ', model_score)"
      ],
      "execution_count": null,
      "outputs": [
        {
          "output_type": "stream",
          "name": "stdout",
          "text": [
            "NaiveBayes Model Score:  0.876429199648197\n"
          ]
        }
      ]
    },
    {
      "cell_type": "code",
      "source": [
        "display(model_pred) #display the predictions\n",
        "print(len(model_pred))"
      ],
      "metadata": {
        "id": "1KzxSqhWiZ86",
        "colab": {
          "base_uri": "https://localhost:8080/",
          "height": 52
        },
        "outputId": "e373aae0-a5b4-46f2-d086-46776b7ac328"
      },
      "execution_count": null,
      "outputs": [
        {
          "output_type": "display_data",
          "data": {
            "text/plain": [
              "array([0, 0, 0, ..., 1, 1, 0])"
            ]
          },
          "metadata": {}
        },
        {
          "output_type": "stream",
          "name": "stdout",
          "text": [
            "2274\n"
          ]
        }
      ]
    },
    {
      "cell_type": "markdown",
      "source": [
        "# **Module 3 - Retrieval of Relevant Tweets**\n",
        "\n",
        "\n",
        "*   Creating a list of relevant tweets based on the predictions made by the machine learning model \n",
        "*   Relevant tweets are those with target value = 1\n",
        "\n",
        "\n"
      ],
      "metadata": {
        "id": "XsMHIOha9Bxm"
      }
    },
    {
      "cell_type": "code",
      "source": [
        "train_text1 , test_text1 , train_target1 , test_target1 = train_test_split(total_data, total_data['target'], test_size=0.2, random_state=2020) #split without CountVectorizing"
      ],
      "metadata": {
        "id": "y8asARYMuaKn"
      },
      "execution_count": null,
      "outputs": []
    },
    {
      "cell_type": "code",
      "source": [
        " print(test_text1.columns.values.tolist())\n",
        " test_text_ncv = test_text1.values.tolist()\n",
        " print(type(test_text_ncv))\n",
        " print(test_text_ncv[0])"
      ],
      "metadata": {
        "id": "dASfdfu-wHwd",
        "colab": {
          "base_uri": "https://localhost:8080/"
        },
        "outputId": "f3ce7fb9-9518-44db-b64c-cd3e98cf2f32"
      },
      "execution_count": null,
      "outputs": [
        {
          "output_type": "stream",
          "name": "stdout",
          "text": [
            "['id', 'keyword', 'location', 'text', 'target', 'hashtag', 'cleaned']\n",
            "<class 'list'>\n",
            "[2971, 'damage', 'Bangkok, Thailand', 'Nope! First he spoke what he thin… https://t.co/mPirnwMu2l', 0, [], ['Nope', 'First', 'he', 'spoke', 'what', 'he', 'thin']]\n"
          ]
        }
      ]
    },
    {
      "cell_type": "code",
      "source": [
        "#display number of relevant predictions\n",
        "count = 0\n",
        "for i in model_pred :\n",
        "  if i == 1 :\n",
        "    count += 1\n",
        "print(count)"
      ],
      "metadata": {
        "id": "43OI2XcOi73o",
        "colab": {
          "base_uri": "https://localhost:8080/"
        },
        "outputId": "0f39fbe9-ead5-4c80-a6b7-80529d598d5e"
      },
      "execution_count": null,
      "outputs": [
        {
          "output_type": "stream",
          "name": "stdout",
          "text": [
            "256\n"
          ]
        }
      ]
    },
    {
      "cell_type": "code",
      "source": [
        "#retrieve corresponding relevant tweets\n",
        "index = 0\n",
        "count = 0\n",
        "rel_tweets = []\n",
        "for i in model_pred :\n",
        "  index += 1\n",
        "  if i == 1 :\n",
        "    rel_tweets.append(test_text_ncv[index][6])\n",
        "    if test_text_ncv[index][4] == i:\n",
        "      count = count + 1"
      ],
      "metadata": {
        "id": "8-vvjukuj1Lg"
      },
      "execution_count": null,
      "outputs": []
    },
    {
      "cell_type": "code",
      "source": [
        "for tweet in rel_tweets :\n",
        "  tweet = ' '.join(tweet)"
      ],
      "metadata": {
        "id": "SB-H3VF6aJ7J"
      },
      "execution_count": null,
      "outputs": []
    },
    {
      "cell_type": "markdown",
      "source": [
        "# **Module 4 - Location Based Tweets - GeoTag**\n",
        "\n",
        "\n",
        "*   Parsing tweet text for locations (cities and countries)\n",
        "\n",
        "\n",
        "\n"
      ],
      "metadata": {
        "id": "QaoSi_K7lvQ-"
      }
    },
    {
      "cell_type": "code",
      "source": [
        "! pip install geotext"
      ],
      "metadata": {
        "colab": {
          "base_uri": "https://localhost:8080/"
        },
        "id": "IuwVOX-xUQhg",
        "outputId": "60b574e3-69cf-48a9-dc02-4f0a7d16241a"
      },
      "execution_count": null,
      "outputs": [
        {
          "output_type": "stream",
          "name": "stdout",
          "text": [
            "Requirement already satisfied: geotext in /usr/local/lib/python3.7/dist-packages (0.4.0)\n"
          ]
        }
      ]
    },
    {
      "cell_type": "code",
      "source": [
        "from geotext import GeoText"
      ],
      "metadata": {
        "id": "LX3w5wyEUAd8"
      },
      "execution_count": null,
      "outputs": []
    },
    {
      "cell_type": "code",
      "source": [
        "list_of_places = [] \n",
        "for tweet in rel_tweets :\n",
        "  list_of_places.append(GeoText(' '.join(tweet)))"
      ],
      "metadata": {
        "id": "U9DtPPUfHtKw"
      },
      "execution_count": null,
      "outputs": []
    },
    {
      "cell_type": "markdown",
      "source": [
        "# **Module 5 - Automatic Emergency Alerting Interface**\n",
        "\n",
        "\n",
        "*   Creating a dataframe with the affected places and their corresponding tweets\n",
        "*   Displaying a histogram depicting the areas most prone to disasters"
      ],
      "metadata": {
        "id": "lma0MhKZIa3Y"
      }
    },
    {
      "cell_type": "code",
      "source": [
        "places = []\n",
        "total = []\n",
        "corresponding_tweets = []\n",
        "i = 0\n",
        "for place in list_of_places:\n",
        "  if (len(place.countries) > 0):\n",
        "    places.append(place.countries)\n",
        "    corresponding_tweets.append(' '.join(rel_tweets[i]))\n",
        "    for p in place.countries:\n",
        "      total.append(p)\n",
        "\n",
        "  if (len(place.cities) > 0):\n",
        "    places.append(place.cities)\n",
        "    corresponding_tweets.append(' '.join(rel_tweets[i]))\n",
        "    for p in place.cities:\n",
        "      total.append(p)\n",
        "  \n",
        "  i = i + 1"
      ],
      "metadata": {
        "id": "5pyqJzKV8SNu"
      },
      "execution_count": null,
      "outputs": []
    },
    {
      "cell_type": "code",
      "source": [
        "print(places)\n",
        "print(corresponding_tweets)"
      ],
      "metadata": {
        "colab": {
          "base_uri": "https://localhost:8080/"
        },
        "id": "bp2GChQPGBKz",
        "outputId": "36bc8b3b-2b7f-4aa1-c6fd-7fba9bd01f59"
      },
      "execution_count": null,
      "outputs": [
        {
          "output_type": "stream",
          "name": "stdout",
          "text": [
            "[['Puerto Rico'], ['Australia'], ['Most'], ['Venice'], ['Australia'], ['Japan'], ['Australia'], ['Kenya', 'India', 'Israel'], ['Of'], ['Olympia'], ['Israel'], ['India'], ['China'], ['Batangas'], ['La Grange'], ['India'], ['Surfers Paradise'], ['Yemen'], ['Police', 'Kota'], ['Turkey'], ['Fier'], ['Jersey City'], ['Auburn'], ['Zhuhai'], ['Libya'], ['Denmark'], ['Hitchin'], ['Taal'], ['Young'], ['Taiwan'], ['India', 'India']]\n",
            "['Puerto Rico hit by another magnitude aftershock KYMA', 'Here we are in Australia in the middle of summer Trapped in our homesthe air outside filled with smoke from delib', 'On Scorched Earth People Most of them have their own parallel platform when they enter a a movement', 'Venice canal almost dry two month after severe flood', 'Why not use the resource to build a pipeline from water rich FNQ to drought stricken state Water in Australia is', 'In Tokyo Yeti Super SJT and ASTERISM Japan at Shibuya Cyclone February', 'feral camel culled in droughthit Australia', 'The Britain had tendered apology to other nation including Kenya but India is totally ignored Israel ha not yet forgot', 'Australians Are Waking Up To And Realizing That s Catastrophic And Abysmal Handing Of', 'The great snowstorm of didnt materialize overnight in the Olympia area a it did in other part of Puget Soun', 'Iran Hit By Sandstorm Earthquake As They Plan To Attack Israel', 'Tallest building demolished in India today at Kochi a per SC order Perfect implosion with absolutely no damage', 'Latest Update Preorders for Map of the Soul by China ARMY have reached copy via on Baidu Tieba', 'Batangas can survive', 'WEATHER ALERT Severe Thunderstorm Warning continues for La Grange NC until PM EST', 'If you reside in India you would not have suggested such a super equitable so', 'Three people were taken to hospital after two car collided in Surfers Paradise http', 'Article Video April The US backed Saudi Coalition have been bombing and starving civilian in Yemen to f', 'UP Police electrocuted arrested me for giving legal aid to antiCAA protestors Kota lawyer', 'Years after coup purged civil servant feel trapped in Turkey via', 'Ready for a whirlwind adventure Miles Alice Joe Hadwin are forced to go on the run when their parent are arrested Fier', 'A bomb found in the van used by the man and woman who attacked a kosher market and killed people in Jersey City in December', 'Should mention the Florida State team a well They annihilated everybody they played except Auburn who they', 'An explosion hit a petrochemical plant in Zhuhai south Chinas Guangdong Province on Tuesday No casualty were', 'If Obama didnt need congressional approval for all out war in Libya trump doe', 'Could you please share the number of unsurmountable death of civilian under socialism in Denmark', 'This freight train wa due into Hitchin at this morning and it wa then that the dera', 'This fuckery is making me nauseous I havent stopped thinking abt this since Taal erupted I cant find news about th', 'sick to death of greedy rich sh tsgreedy Young woke royalsgreedy bl ck footballer wavin', 'All country should treat Taiwan a a partner not an issue After being reelected on Saturday in a landslide Taiwanes', 'Indias sinking economy worlds third largest employer might move out of India fire India executive']\n"
          ]
        }
      ]
    },
    {
      "cell_type": "code",
      "source": [
        "df = pd.DataFrame(list(zip(places, corresponding_tweets)),\n",
        "               columns =['Countries/Cities', 'Corresponding Tweets'])"
      ],
      "metadata": {
        "id": "qTsaGDhLHQ72"
      },
      "execution_count": null,
      "outputs": []
    },
    {
      "cell_type": "code",
      "source": [
        "display(df)"
      ],
      "metadata": {
        "id": "6mksgR_qHduw",
        "colab": {
          "base_uri": "https://localhost:8080/",
          "height": 1000
        },
        "outputId": "97575905-d9ed-4801-8257-cb60bc02b77c"
      },
      "execution_count": null,
      "outputs": [
        {
          "output_type": "display_data",
          "data": {
            "text/html": [
              "\n",
              "  <div id=\"df-d7a9db89-19a6-4d39-92da-cb6fd03acae3\">\n",
              "    <div class=\"colab-df-container\">\n",
              "      <div>\n",
              "<style scoped>\n",
              "    .dataframe tbody tr th:only-of-type {\n",
              "        vertical-align: middle;\n",
              "    }\n",
              "\n",
              "    .dataframe tbody tr th {\n",
              "        vertical-align: top;\n",
              "    }\n",
              "\n",
              "    .dataframe thead th {\n",
              "        text-align: right;\n",
              "    }\n",
              "</style>\n",
              "<table border=\"1\" class=\"dataframe\">\n",
              "  <thead>\n",
              "    <tr style=\"text-align: right;\">\n",
              "      <th></th>\n",
              "      <th>Countries/Cities</th>\n",
              "      <th>Corresponding Tweets</th>\n",
              "    </tr>\n",
              "  </thead>\n",
              "  <tbody>\n",
              "    <tr>\n",
              "      <th>0</th>\n",
              "      <td>[Puerto Rico]</td>\n",
              "      <td>Puerto Rico hit by another magnitude aftershoc...</td>\n",
              "    </tr>\n",
              "    <tr>\n",
              "      <th>1</th>\n",
              "      <td>[Australia]</td>\n",
              "      <td>Here we are in Australia in the middle of summ...</td>\n",
              "    </tr>\n",
              "    <tr>\n",
              "      <th>2</th>\n",
              "      <td>[Most]</td>\n",
              "      <td>On Scorched Earth People Most of them have the...</td>\n",
              "    </tr>\n",
              "    <tr>\n",
              "      <th>3</th>\n",
              "      <td>[Venice]</td>\n",
              "      <td>Venice canal almost dry two month after severe...</td>\n",
              "    </tr>\n",
              "    <tr>\n",
              "      <th>4</th>\n",
              "      <td>[Australia]</td>\n",
              "      <td>Why not use the resource to build a pipeline f...</td>\n",
              "    </tr>\n",
              "    <tr>\n",
              "      <th>5</th>\n",
              "      <td>[Japan]</td>\n",
              "      <td>In Tokyo Yeti Super SJT and ASTERISM Japan at ...</td>\n",
              "    </tr>\n",
              "    <tr>\n",
              "      <th>6</th>\n",
              "      <td>[Australia]</td>\n",
              "      <td>feral camel culled in droughthit Australia</td>\n",
              "    </tr>\n",
              "    <tr>\n",
              "      <th>7</th>\n",
              "      <td>[Kenya, India, Israel]</td>\n",
              "      <td>The Britain had tendered apology to other nati...</td>\n",
              "    </tr>\n",
              "    <tr>\n",
              "      <th>8</th>\n",
              "      <td>[Of]</td>\n",
              "      <td>Australians Are Waking Up To And Realizing Tha...</td>\n",
              "    </tr>\n",
              "    <tr>\n",
              "      <th>9</th>\n",
              "      <td>[Olympia]</td>\n",
              "      <td>The great snowstorm of didnt materialize overn...</td>\n",
              "    </tr>\n",
              "    <tr>\n",
              "      <th>10</th>\n",
              "      <td>[Israel]</td>\n",
              "      <td>Iran Hit By Sandstorm Earthquake As They Plan ...</td>\n",
              "    </tr>\n",
              "    <tr>\n",
              "      <th>11</th>\n",
              "      <td>[India]</td>\n",
              "      <td>Tallest building demolished in India today at ...</td>\n",
              "    </tr>\n",
              "    <tr>\n",
              "      <th>12</th>\n",
              "      <td>[China]</td>\n",
              "      <td>Latest Update Preorders for Map of the Soul by...</td>\n",
              "    </tr>\n",
              "    <tr>\n",
              "      <th>13</th>\n",
              "      <td>[Batangas]</td>\n",
              "      <td>Batangas can survive</td>\n",
              "    </tr>\n",
              "    <tr>\n",
              "      <th>14</th>\n",
              "      <td>[La Grange]</td>\n",
              "      <td>WEATHER ALERT Severe Thunderstorm Warning cont...</td>\n",
              "    </tr>\n",
              "    <tr>\n",
              "      <th>15</th>\n",
              "      <td>[India]</td>\n",
              "      <td>If you reside in India you would not have sugg...</td>\n",
              "    </tr>\n",
              "    <tr>\n",
              "      <th>16</th>\n",
              "      <td>[Surfers Paradise]</td>\n",
              "      <td>Three people were taken to hospital after two ...</td>\n",
              "    </tr>\n",
              "    <tr>\n",
              "      <th>17</th>\n",
              "      <td>[Yemen]</td>\n",
              "      <td>Article Video April The US backed Saudi Coalit...</td>\n",
              "    </tr>\n",
              "    <tr>\n",
              "      <th>18</th>\n",
              "      <td>[Police, Kota]</td>\n",
              "      <td>UP Police electrocuted arrested me for giving ...</td>\n",
              "    </tr>\n",
              "    <tr>\n",
              "      <th>19</th>\n",
              "      <td>[Turkey]</td>\n",
              "      <td>Years after coup purged civil servant feel tra...</td>\n",
              "    </tr>\n",
              "    <tr>\n",
              "      <th>20</th>\n",
              "      <td>[Fier]</td>\n",
              "      <td>Ready for a whirlwind adventure Miles Alice Jo...</td>\n",
              "    </tr>\n",
              "    <tr>\n",
              "      <th>21</th>\n",
              "      <td>[Jersey City]</td>\n",
              "      <td>A bomb found in the van used by the man and wo...</td>\n",
              "    </tr>\n",
              "    <tr>\n",
              "      <th>22</th>\n",
              "      <td>[Auburn]</td>\n",
              "      <td>Should mention the Florida State team a well T...</td>\n",
              "    </tr>\n",
              "    <tr>\n",
              "      <th>23</th>\n",
              "      <td>[Zhuhai]</td>\n",
              "      <td>An explosion hit a petrochemical plant in Zhuh...</td>\n",
              "    </tr>\n",
              "    <tr>\n",
              "      <th>24</th>\n",
              "      <td>[Libya]</td>\n",
              "      <td>If Obama didnt need congressional approval for...</td>\n",
              "    </tr>\n",
              "    <tr>\n",
              "      <th>25</th>\n",
              "      <td>[Denmark]</td>\n",
              "      <td>Could you please share the number of unsurmoun...</td>\n",
              "    </tr>\n",
              "    <tr>\n",
              "      <th>26</th>\n",
              "      <td>[Hitchin]</td>\n",
              "      <td>This freight train wa due into Hitchin at this...</td>\n",
              "    </tr>\n",
              "    <tr>\n",
              "      <th>27</th>\n",
              "      <td>[Taal]</td>\n",
              "      <td>This fuckery is making me nauseous I havent st...</td>\n",
              "    </tr>\n",
              "    <tr>\n",
              "      <th>28</th>\n",
              "      <td>[Young]</td>\n",
              "      <td>sick to death of greedy rich sh tsgreedy Young...</td>\n",
              "    </tr>\n",
              "    <tr>\n",
              "      <th>29</th>\n",
              "      <td>[Taiwan]</td>\n",
              "      <td>All country should treat Taiwan a a partner no...</td>\n",
              "    </tr>\n",
              "    <tr>\n",
              "      <th>30</th>\n",
              "      <td>[India, India]</td>\n",
              "      <td>Indias sinking economy worlds third largest em...</td>\n",
              "    </tr>\n",
              "  </tbody>\n",
              "</table>\n",
              "</div>\n",
              "      <button class=\"colab-df-convert\" onclick=\"convertToInteractive('df-d7a9db89-19a6-4d39-92da-cb6fd03acae3')\"\n",
              "              title=\"Convert this dataframe to an interactive table.\"\n",
              "              style=\"display:none;\">\n",
              "        \n",
              "  <svg xmlns=\"http://www.w3.org/2000/svg\" height=\"24px\"viewBox=\"0 0 24 24\"\n",
              "       width=\"24px\">\n",
              "    <path d=\"M0 0h24v24H0V0z\" fill=\"none\"/>\n",
              "    <path d=\"M18.56 5.44l.94 2.06.94-2.06 2.06-.94-2.06-.94-.94-2.06-.94 2.06-2.06.94zm-11 1L8.5 8.5l.94-2.06 2.06-.94-2.06-.94L8.5 2.5l-.94 2.06-2.06.94zm10 10l.94 2.06.94-2.06 2.06-.94-2.06-.94-.94-2.06-.94 2.06-2.06.94z\"/><path d=\"M17.41 7.96l-1.37-1.37c-.4-.4-.92-.59-1.43-.59-.52 0-1.04.2-1.43.59L10.3 9.45l-7.72 7.72c-.78.78-.78 2.05 0 2.83L4 21.41c.39.39.9.59 1.41.59.51 0 1.02-.2 1.41-.59l7.78-7.78 2.81-2.81c.8-.78.8-2.07 0-2.86zM5.41 20L4 18.59l7.72-7.72 1.47 1.35L5.41 20z\"/>\n",
              "  </svg>\n",
              "      </button>\n",
              "      \n",
              "  <style>\n",
              "    .colab-df-container {\n",
              "      display:flex;\n",
              "      flex-wrap:wrap;\n",
              "      gap: 12px;\n",
              "    }\n",
              "\n",
              "    .colab-df-convert {\n",
              "      background-color: #E8F0FE;\n",
              "      border: none;\n",
              "      border-radius: 50%;\n",
              "      cursor: pointer;\n",
              "      display: none;\n",
              "      fill: #1967D2;\n",
              "      height: 32px;\n",
              "      padding: 0 0 0 0;\n",
              "      width: 32px;\n",
              "    }\n",
              "\n",
              "    .colab-df-convert:hover {\n",
              "      background-color: #E2EBFA;\n",
              "      box-shadow: 0px 1px 2px rgba(60, 64, 67, 0.3), 0px 1px 3px 1px rgba(60, 64, 67, 0.15);\n",
              "      fill: #174EA6;\n",
              "    }\n",
              "\n",
              "    [theme=dark] .colab-df-convert {\n",
              "      background-color: #3B4455;\n",
              "      fill: #D2E3FC;\n",
              "    }\n",
              "\n",
              "    [theme=dark] .colab-df-convert:hover {\n",
              "      background-color: #434B5C;\n",
              "      box-shadow: 0px 1px 3px 1px rgba(0, 0, 0, 0.15);\n",
              "      filter: drop-shadow(0px 1px 2px rgba(0, 0, 0, 0.3));\n",
              "      fill: #FFFFFF;\n",
              "    }\n",
              "  </style>\n",
              "\n",
              "      <script>\n",
              "        const buttonEl =\n",
              "          document.querySelector('#df-d7a9db89-19a6-4d39-92da-cb6fd03acae3 button.colab-df-convert');\n",
              "        buttonEl.style.display =\n",
              "          google.colab.kernel.accessAllowed ? 'block' : 'none';\n",
              "\n",
              "        async function convertToInteractive(key) {\n",
              "          const element = document.querySelector('#df-d7a9db89-19a6-4d39-92da-cb6fd03acae3');\n",
              "          const dataTable =\n",
              "            await google.colab.kernel.invokeFunction('convertToInteractive',\n",
              "                                                     [key], {});\n",
              "          if (!dataTable) return;\n",
              "\n",
              "          const docLinkHtml = 'Like what you see? Visit the ' +\n",
              "            '<a target=\"_blank\" href=https://colab.research.google.com/notebooks/data_table.ipynb>data table notebook</a>'\n",
              "            + ' to learn more about interactive tables.';\n",
              "          element.innerHTML = '';\n",
              "          dataTable['output_type'] = 'display_data';\n",
              "          await google.colab.output.renderOutput(dataTable, element);\n",
              "          const docLink = document.createElement('div');\n",
              "          docLink.innerHTML = docLinkHtml;\n",
              "          element.appendChild(docLink);\n",
              "        }\n",
              "      </script>\n",
              "    </div>\n",
              "  </div>\n",
              "  "
            ],
            "text/plain": [
              "          Countries/Cities                               Corresponding Tweets\n",
              "0            [Puerto Rico]  Puerto Rico hit by another magnitude aftershoc...\n",
              "1              [Australia]  Here we are in Australia in the middle of summ...\n",
              "2                   [Most]  On Scorched Earth People Most of them have the...\n",
              "3                 [Venice]  Venice canal almost dry two month after severe...\n",
              "4              [Australia]  Why not use the resource to build a pipeline f...\n",
              "5                  [Japan]  In Tokyo Yeti Super SJT and ASTERISM Japan at ...\n",
              "6              [Australia]         feral camel culled in droughthit Australia\n",
              "7   [Kenya, India, Israel]  The Britain had tendered apology to other nati...\n",
              "8                     [Of]  Australians Are Waking Up To And Realizing Tha...\n",
              "9                [Olympia]  The great snowstorm of didnt materialize overn...\n",
              "10                [Israel]  Iran Hit By Sandstorm Earthquake As They Plan ...\n",
              "11                 [India]  Tallest building demolished in India today at ...\n",
              "12                 [China]  Latest Update Preorders for Map of the Soul by...\n",
              "13              [Batangas]                               Batangas can survive\n",
              "14             [La Grange]  WEATHER ALERT Severe Thunderstorm Warning cont...\n",
              "15                 [India]  If you reside in India you would not have sugg...\n",
              "16      [Surfers Paradise]  Three people were taken to hospital after two ...\n",
              "17                 [Yemen]  Article Video April The US backed Saudi Coalit...\n",
              "18          [Police, Kota]  UP Police electrocuted arrested me for giving ...\n",
              "19                [Turkey]  Years after coup purged civil servant feel tra...\n",
              "20                  [Fier]  Ready for a whirlwind adventure Miles Alice Jo...\n",
              "21           [Jersey City]  A bomb found in the van used by the man and wo...\n",
              "22                [Auburn]  Should mention the Florida State team a well T...\n",
              "23                [Zhuhai]  An explosion hit a petrochemical plant in Zhuh...\n",
              "24                 [Libya]  If Obama didnt need congressional approval for...\n",
              "25               [Denmark]  Could you please share the number of unsurmoun...\n",
              "26               [Hitchin]  This freight train wa due into Hitchin at this...\n",
              "27                  [Taal]  This fuckery is making me nauseous I havent st...\n",
              "28                 [Young]  sick to death of greedy rich sh tsgreedy Young...\n",
              "29                [Taiwan]  All country should treat Taiwan a a partner no...\n",
              "30          [India, India]  Indias sinking economy worlds third largest em..."
            ]
          },
          "metadata": {}
        }
      ]
    },
    {
      "cell_type": "code",
      "source": [
        "countries = []\n",
        "for places in list_of_places :\n",
        "  for country in places.countries :\n",
        "    countries.append(country)\n",
        "\n",
        "cities = []\n",
        "for places in list_of_places :\n",
        "  for city in places.cities :\n",
        "    cities.append(city)"
      ],
      "metadata": {
        "id": "_s9V8Z3YHJ5b"
      },
      "execution_count": null,
      "outputs": []
    },
    {
      "cell_type": "code",
      "source": [
        "print(\"COUNTRIES WITH DISASTERS:\")\n",
        "for country in countries :\n",
        "    print(country)\n",
        "print(\"\\nCITIES WITH DISASTERS:\")\n",
        "for city in cities :\n",
        "    print(city)"
      ],
      "metadata": {
        "colab": {
          "base_uri": "https://localhost:8080/"
        },
        "id": "dbly5HMoVtPp",
        "outputId": "4f3eb770-437f-44b2-94c5-74f76b8fe1c6"
      },
      "execution_count": null,
      "outputs": [
        {
          "output_type": "stream",
          "name": "stdout",
          "text": [
            "COUNTRIES WITH DISASTERS:\n",
            "Puerto Rico\n",
            "Australia\n",
            "Australia\n",
            "Japan\n",
            "Australia\n",
            "Kenya\n",
            "India\n",
            "Israel\n",
            "Israel\n",
            "India\n",
            "China\n",
            "India\n",
            "Yemen\n",
            "Turkey\n",
            "Libya\n",
            "Denmark\n",
            "Taiwan\n",
            "India\n",
            "India\n",
            "\n",
            "CITIES WITH DISASTERS:\n",
            "Most\n",
            "Venice\n",
            "Of\n",
            "Olympia\n",
            "Batangas\n",
            "La Grange\n",
            "Surfers Paradise\n",
            "Police\n",
            "Kota\n",
            "Fier\n",
            "Jersey City\n",
            "Auburn\n",
            "Zhuhai\n",
            "Hitchin\n",
            "Taal\n",
            "Young\n"
          ]
        }
      ]
    },
    {
      "cell_type": "code",
      "source": [
        "df = pd.DataFrame(list(zip(countries, cities)),\n",
        "               columns =['Countries', 'Cities'])\n",
        "fig, ax = plt.subplots()\n",
        "df['Countries'].value_counts().plot(ax=ax, kind='bar')\n",
        "plt.show() #country-wise"
      ],
      "metadata": {
        "colab": {
          "base_uri": "https://localhost:8080/",
          "height": 312
        },
        "id": "4JcLEpIZvAK9",
        "outputId": "1c108b45-996d-4b84-977b-ce1491566887"
      },
      "execution_count": null,
      "outputs": [
        {
          "output_type": "display_data",
          "data": {
            "image/png": "[encoded data removed]",
            "text/plain": [
              "<Figure size 432x288 with 1 Axes>"
            ]
          },
          "metadata": {
            "needs_background": "light"
          }
        }
      ]
    },
    {
      "cell_type": "code",
      "source": [
        "df1 = pd.DataFrame(list(zip(total)),\n",
        "               columns =['Countries/Cities'])"
      ],
      "metadata": {
        "id": "BAdyfeY8Fi0d"
      },
      "execution_count": null,
      "outputs": []
    },
    {
      "cell_type": "code",
      "source": [
        "fig, ax = plt.subplots()\n",
        "df1['Countries/Cities'].value_counts().plot(ax=ax, kind='bar')\n",
        "plt.show() #countries and cities together"
      ],
      "metadata": {
        "colab": {
          "base_uri": "https://localhost:8080/",
          "height": 337
        },
        "outputId": "5190bbe0-44a5-45f6-cd9f-74d6c4113a80",
        "id": "QwwD_eNbRs5e"
      },
      "execution_count": null,
      "outputs": [
        {
          "output_type": "display_data",
          "data": {
            "image/png": "[encoded data removed]",
            "text/plain": [
              "<Figure size 432x288 with 1 Axes>"
            ]
          },
          "metadata": {
            "needs_background": "light"
          }
        }
      ]
    }
  ]
}