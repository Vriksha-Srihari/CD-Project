{
  "cells": [
    {
      "cell_type": "markdown",
      "metadata": {
        "id": "view-in-github",
        "colab_type": "text"
      },
      "source": [
        "<a href=\"https://colab.research.google.com/github/Vriksha-Srihari/CD-Project/blob/main/Team13_SVM.ipynb\" target=\"_parent\"><img src=\"https://colab.research.google.com/assets/colab-badge.svg\" alt=\"Open In Colab\"/></a>"
      ]
    },
    {
      "cell_type": "markdown",
      "metadata": {
        "id": "x7uffb_Gn2Fv"
      },
      "source": [
        "Dataset used: \n",
        "Disaster Tweets\n",
        "Real or Not? NLP with Disaster Tweets challenge add-on\n",
        "\n",
        "Link to dataset: https://www.kaggle.com/vstepanenko/disaster-tweets"
      ]
    },
    {
      "cell_type": "code",
      "execution_count": null,
      "metadata": {
        "id": "7FJtAdWVNVNs",
        "colab": {
          "base_uri": "https://localhost:8080/"
        },
        "outputId": "09324139-de40-4600-d363-b546d93b4de1"
      },
      "outputs": [
        {
          "output_type": "stream",
          "name": "stdout",
          "text": [
            "Mounted at /content/drive\n"
          ]
        }
      ],
      "source": [
        "from google.colab import drive\n",
        "drive.mount('/content/drive')"
      ]
    },
    {
      "cell_type": "code",
      "execution_count": null,
      "metadata": {
        "id": "nKurjEAB4tMj",
        "colab": {
          "base_uri": "https://localhost:8080/"
        },
        "outputId": "30d04dfa-ac93-4927-ea14-bbbd1fc97200"
      },
      "outputs": [
        {
          "output_type": "stream",
          "name": "stdout",
          "text": [
            "Requirement already satisfied: kaggle in /usr/local/lib/python3.7/dist-packages (1.5.12)\n",
            "Requirement already satisfied: requests in /usr/local/lib/python3.7/dist-packages (from kaggle) (2.23.0)\n",
            "Requirement already satisfied: python-dateutil in /usr/local/lib/python3.7/dist-packages (from kaggle) (2.8.2)\n",
            "Requirement already satisfied: tqdm in /usr/local/lib/python3.7/dist-packages (from kaggle) (4.62.3)\n",
            "Requirement already satisfied: certifi in /usr/local/lib/python3.7/dist-packages (from kaggle) (2021.10.8)\n",
            "Requirement already satisfied: six>=1.10 in /usr/local/lib/python3.7/dist-packages (from kaggle) (1.15.0)\n",
            "Requirement already satisfied: python-slugify in /usr/local/lib/python3.7/dist-packages (from kaggle) (5.0.2)\n",
            "Requirement already satisfied: urllib3 in /usr/local/lib/python3.7/dist-packages (from kaggle) (1.24.3)\n",
            "Requirement already satisfied: text-unidecode>=1.3 in /usr/local/lib/python3.7/dist-packages (from python-slugify->kaggle) (1.3)\n",
            "Requirement already satisfied: idna<3,>=2.5 in /usr/local/lib/python3.7/dist-packages (from requests->kaggle) (2.10)\n",
            "Requirement already satisfied: chardet<4,>=3.0.2 in /usr/local/lib/python3.7/dist-packages (from requests->kaggle) (3.0.4)\n"
          ]
        }
      ],
      "source": [
        "! pip install kaggle"
      ]
    },
    {
      "cell_type": "code",
      "execution_count": null,
      "metadata": {
        "id": "F2f-IMb140u6"
      },
      "outputs": [],
      "source": [
        "! mkdir ~/.kaggle"
      ]
    },
    {
      "cell_type": "code",
      "execution_count": null,
      "metadata": {
        "id": "az7rZOOK5HNV"
      },
      "outputs": [],
      "source": [
        "! cp /content/drive/MyDrive/Kaggle/kaggle.json ~/.kaggle/"
      ]
    },
    {
      "cell_type": "code",
      "execution_count": null,
      "metadata": {
        "id": "fsBKgQht5Nzs"
      },
      "outputs": [],
      "source": [
        "! chmod 600 ~/.kaggle/kaggle.json"
      ]
    },
    {
      "cell_type": "code",
      "execution_count": null,
      "metadata": {
        "id": "NDzF_9Mz-klJ",
        "colab": {
          "base_uri": "https://localhost:8080/"
        },
        "outputId": "bf3a2b1c-d5d7-4791-d10b-774de5aae212"
      },
      "outputs": [
        {
          "output_type": "stream",
          "name": "stdout",
          "text": [
            "Downloading disaster-tweets.zip to /content\n",
            "\r  0% 0.00/656k [00:00<?, ?B/s]\n",
            "\r100% 656k/656k [00:00<00:00, 44.5MB/s]\n"
          ]
        }
      ],
      "source": [
        "! kaggle datasets download vstepanenko/disaster-tweets"
      ]
    },
    {
      "cell_type": "code",
      "execution_count": null,
      "metadata": {
        "id": "Zf0Y3YId6Eg5"
      },
      "outputs": [],
      "source": [
        "! mkdir disaster_tweets"
      ]
    },
    {
      "cell_type": "code",
      "execution_count": null,
      "metadata": {
        "id": "HBNaFn_Hk9DB",
        "colab": {
          "base_uri": "https://localhost:8080/"
        },
        "outputId": "278627a4-8eb6-454c-ac3b-e67f4d8f8c31"
      },
      "outputs": [
        {
          "output_type": "stream",
          "name": "stdout",
          "text": [
            "Archive:  disaster-tweets.zip\n",
            "  inflating: disaster_tweets/tweets.csv  \n"
          ]
        }
      ],
      "source": [
        "! unzip disaster-tweets.zip -d disaster_tweets"
      ]
    },
    {
      "cell_type": "code",
      "execution_count": null,
      "metadata": {
        "id": "ZRPwhU1oHCZ9"
      },
      "outputs": [],
      "source": [
        "import csv\n",
        "import pandas as pd\n",
        "import re\n",
        "import tensorflow as tf\n",
        "import numpy as np\n",
        "import matplotlib.pyplot as plt"
      ]
    },
    {
      "cell_type": "markdown",
      "source": [
        "# **Module 1 - Twitter Dataset**\n",
        "\n",
        "*   Preprocessing and cleaning tweets (removing numbers, hashtags, links, punctuation) and finally tokenizing them\n",
        "\n"
      ],
      "metadata": {
        "id": "kZiKp_CNO475"
      }
    },
    {
      "cell_type": "code",
      "execution_count": null,
      "metadata": {
        "id": "47iH_-bPEO07"
      },
      "outputs": [],
      "source": [
        "#optional execution\n",
        "with open('disaster_tweets/tweets.csv', 'r') as file:\n",
        "    reader = csv.reader(file)"
      ]
    },
    {
      "cell_type": "code",
      "execution_count": null,
      "metadata": {
        "id": "RS4Yq5XlHPB0"
      },
      "outputs": [],
      "source": [
        "#converting csv file into pandas dataframe\n",
        "total_data = pd.read_csv('disaster_tweets/tweets.csv')"
      ]
    },
    {
      "cell_type": "code",
      "execution_count": null,
      "metadata": {
        "id": "tWuzcSM_H7Es"
      },
      "outputs": [],
      "source": [
        "#\\w stands for \"word character\", usually [A-Za-z0-9_]\n",
        "total_data['hashtag'] = total_data['text'].apply(lambda x: re.findall(r\"#(\\w+)\", x))"
      ]
    },
    {
      "cell_type": "code",
      "execution_count": null,
      "metadata": {
        "id": "VmpZrKcrImjB",
        "colab": {
          "base_uri": "https://localhost:8080/",
          "height": 641
        },
        "outputId": "1179009a-9314-47d1-c368-974ecfd41161"
      },
      "outputs": [
        {
          "output_type": "display_data",
          "data": {
            "text/html": [
              "\n",
              "  <div id=\"df-299c97ed-9a08-497e-9564-fd902f814c11\">\n",
              "    <div class=\"colab-df-container\">\n",
              "      <div>\n",
              "<style scoped>\n",
              "    .dataframe tbody tr th:only-of-type {\n",
              "        vertical-align: middle;\n",
              "    }\n",
              "\n",
              "    .dataframe tbody tr th {\n",
              "        vertical-align: top;\n",
              "    }\n",
              "\n",
              "    .dataframe thead th {\n",
              "        text-align: right;\n",
              "    }\n",
              "</style>\n",
              "<table border=\"1\" class=\"dataframe\">\n",
              "  <thead>\n",
              "    <tr style=\"text-align: right;\">\n",
              "      <th></th>\n",
              "      <th>id</th>\n",
              "      <th>keyword</th>\n",
              "      <th>location</th>\n",
              "      <th>text</th>\n",
              "      <th>target</th>\n",
              "      <th>hashtag</th>\n",
              "    </tr>\n",
              "  </thead>\n",
              "  <tbody>\n",
              "    <tr>\n",
              "      <th>0</th>\n",
              "      <td>0</td>\n",
              "      <td>ablaze</td>\n",
              "      <td>NaN</td>\n",
              "      <td>Communal violence in Bhainsa, Telangana. \"Ston...</td>\n",
              "      <td>1</td>\n",
              "      <td>[]</td>\n",
              "    </tr>\n",
              "    <tr>\n",
              "      <th>1</th>\n",
              "      <td>1</td>\n",
              "      <td>ablaze</td>\n",
              "      <td>NaN</td>\n",
              "      <td>Telangana: Section 144 has been imposed in Bha...</td>\n",
              "      <td>1</td>\n",
              "      <td>[]</td>\n",
              "    </tr>\n",
              "    <tr>\n",
              "      <th>2</th>\n",
              "      <td>2</td>\n",
              "      <td>ablaze</td>\n",
              "      <td>New York City</td>\n",
              "      <td>Arsonist sets cars ablaze at dealership https:...</td>\n",
              "      <td>1</td>\n",
              "      <td>[]</td>\n",
              "    </tr>\n",
              "    <tr>\n",
              "      <th>3</th>\n",
              "      <td>3</td>\n",
              "      <td>ablaze</td>\n",
              "      <td>Morgantown, WV</td>\n",
              "      <td>Arsonist sets cars ablaze at dealership https:...</td>\n",
              "      <td>1</td>\n",
              "      <td>[]</td>\n",
              "    </tr>\n",
              "    <tr>\n",
              "      <th>4</th>\n",
              "      <td>4</td>\n",
              "      <td>ablaze</td>\n",
              "      <td>NaN</td>\n",
              "      <td>\"Lord Jesus, your love brings freedom and pard...</td>\n",
              "      <td>0</td>\n",
              "      <td>[]</td>\n",
              "    </tr>\n",
              "    <tr>\n",
              "      <th>...</th>\n",
              "      <td>...</td>\n",
              "      <td>...</td>\n",
              "      <td>...</td>\n",
              "      <td>...</td>\n",
              "      <td>...</td>\n",
              "      <td>...</td>\n",
              "    </tr>\n",
              "    <tr>\n",
              "      <th>11365</th>\n",
              "      <td>11365</td>\n",
              "      <td>wrecked</td>\n",
              "      <td>Blue State in a red sea</td>\n",
              "      <td>Media should have warned us well in advance. T...</td>\n",
              "      <td>0</td>\n",
              "      <td>[]</td>\n",
              "    </tr>\n",
              "    <tr>\n",
              "      <th>11366</th>\n",
              "      <td>11366</td>\n",
              "      <td>wrecked</td>\n",
              "      <td>arohaonces</td>\n",
              "      <td>i feel directly attacked 💀 i consider moonbin ...</td>\n",
              "      <td>0</td>\n",
              "      <td>[]</td>\n",
              "    </tr>\n",
              "    <tr>\n",
              "      <th>11367</th>\n",
              "      <td>11367</td>\n",
              "      <td>wrecked</td>\n",
              "      <td>🇵🇭</td>\n",
              "      <td>i feel directly attacked 💀 i consider moonbin ...</td>\n",
              "      <td>0</td>\n",
              "      <td>[]</td>\n",
              "    </tr>\n",
              "    <tr>\n",
              "      <th>11368</th>\n",
              "      <td>11368</td>\n",
              "      <td>wrecked</td>\n",
              "      <td>auroraborealis</td>\n",
              "      <td>ok who remember \"outcast\" nd the \"dora\" au?? T...</td>\n",
              "      <td>0</td>\n",
              "      <td>[]</td>\n",
              "    </tr>\n",
              "    <tr>\n",
              "      <th>11369</th>\n",
              "      <td>11369</td>\n",
              "      <td>wrecked</td>\n",
              "      <td>NaN</td>\n",
              "      <td>Jake Corway wrecked while running 14th at IRP.</td>\n",
              "      <td>1</td>\n",
              "      <td>[]</td>\n",
              "    </tr>\n",
              "  </tbody>\n",
              "</table>\n",
              "<p>11370 rows × 6 columns</p>\n",
              "</div>\n",
              "      <button class=\"colab-df-convert\" onclick=\"convertToInteractive('df-299c97ed-9a08-497e-9564-fd902f814c11')\"\n",
              "              title=\"Convert this dataframe to an interactive table.\"\n",
              "              style=\"display:none;\">\n",
              "        \n",
              "  <svg xmlns=\"http://www.w3.org/2000/svg\" height=\"24px\"viewBox=\"0 0 24 24\"\n",
              "       width=\"24px\">\n",
              "    <path d=\"M0 0h24v24H0V0z\" fill=\"none\"/>\n",
              "    <path d=\"M18.56 5.44l.94 2.06.94-2.06 2.06-.94-2.06-.94-.94-2.06-.94 2.06-2.06.94zm-11 1L8.5 8.5l.94-2.06 2.06-.94-2.06-.94L8.5 2.5l-.94 2.06-2.06.94zm10 10l.94 2.06.94-2.06 2.06-.94-2.06-.94-.94-2.06-.94 2.06-2.06.94z\"/><path d=\"M17.41 7.96l-1.37-1.37c-.4-.4-.92-.59-1.43-.59-.52 0-1.04.2-1.43.59L10.3 9.45l-7.72 7.72c-.78.78-.78 2.05 0 2.83L4 21.41c.39.39.9.59 1.41.59.51 0 1.02-.2 1.41-.59l7.78-7.78 2.81-2.81c.8-.78.8-2.07 0-2.86zM5.41 20L4 18.59l7.72-7.72 1.47 1.35L5.41 20z\"/>\n",
              "  </svg>\n",
              "      </button>\n",
              "      \n",
              "  <style>\n",
              "    .colab-df-container {\n",
              "      display:flex;\n",
              "      flex-wrap:wrap;\n",
              "      gap: 12px;\n",
              "    }\n",
              "\n",
              "    .colab-df-convert {\n",
              "      background-color: #E8F0FE;\n",
              "      border: none;\n",
              "      border-radius: 50%;\n",
              "      cursor: pointer;\n",
              "      display: none;\n",
              "      fill: #1967D2;\n",
              "      height: 32px;\n",
              "      padding: 0 0 0 0;\n",
              "      width: 32px;\n",
              "    }\n",
              "\n",
              "    .colab-df-convert:hover {\n",
              "      background-color: #E2EBFA;\n",
              "      box-shadow: 0px 1px 2px rgba(60, 64, 67, 0.3), 0px 1px 3px 1px rgba(60, 64, 67, 0.15);\n",
              "      fill: #174EA6;\n",
              "    }\n",
              "\n",
              "    [theme=dark] .colab-df-convert {\n",
              "      background-color: #3B4455;\n",
              "      fill: #D2E3FC;\n",
              "    }\n",
              "\n",
              "    [theme=dark] .colab-df-convert:hover {\n",
              "      background-color: #434B5C;\n",
              "      box-shadow: 0px 1px 3px 1px rgba(0, 0, 0, 0.15);\n",
              "      filter: drop-shadow(0px 1px 2px rgba(0, 0, 0, 0.3));\n",
              "      fill: #FFFFFF;\n",
              "    }\n",
              "  </style>\n",
              "\n",
              "      <script>\n",
              "        const buttonEl =\n",
              "          document.querySelector('#df-299c97ed-9a08-497e-9564-fd902f814c11 button.colab-df-convert');\n",
              "        buttonEl.style.display =\n",
              "          google.colab.kernel.accessAllowed ? 'block' : 'none';\n",
              "\n",
              "        async function convertToInteractive(key) {\n",
              "          const element = document.querySelector('#df-299c97ed-9a08-497e-9564-fd902f814c11');\n",
              "          const dataTable =\n",
              "            await google.colab.kernel.invokeFunction('convertToInteractive',\n",
              "                                                     [key], {});\n",
              "          if (!dataTable) return;\n",
              "\n",
              "          const docLinkHtml = 'Like what you see? Visit the ' +\n",
              "            '<a target=\"_blank\" href=https://colab.research.google.com/notebooks/data_table.ipynb>data table notebook</a>'\n",
              "            + ' to learn more about interactive tables.';\n",
              "          element.innerHTML = '';\n",
              "          dataTable['output_type'] = 'display_data';\n",
              "          await google.colab.output.renderOutput(dataTable, element);\n",
              "          const docLink = document.createElement('div');\n",
              "          docLink.innerHTML = docLinkHtml;\n",
              "          element.appendChild(docLink);\n",
              "        }\n",
              "      </script>\n",
              "    </div>\n",
              "  </div>\n",
              "  "
            ],
            "text/plain": [
              "          id  keyword  ... target hashtag\n",
              "0          0   ablaze  ...      1      []\n",
              "1          1   ablaze  ...      1      []\n",
              "2          2   ablaze  ...      1      []\n",
              "3          3   ablaze  ...      1      []\n",
              "4          4   ablaze  ...      0      []\n",
              "...      ...      ...  ...    ...     ...\n",
              "11365  11365  wrecked  ...      0      []\n",
              "11366  11366  wrecked  ...      0      []\n",
              "11367  11367  wrecked  ...      0      []\n",
              "11368  11368  wrecked  ...      0      []\n",
              "11369  11369  wrecked  ...      1      []\n",
              "\n",
              "[11370 rows x 6 columns]"
            ]
          },
          "metadata": {}
        }
      ],
      "source": [
        "display(total_data)"
      ]
    },
    {
      "cell_type": "code",
      "execution_count": null,
      "metadata": {
        "id": "0QM1FN9-PtLd",
        "colab": {
          "base_uri": "https://localhost:8080/"
        },
        "outputId": "70207bbf-6ca2-4605-b0bc-6e401f36d0a7"
      },
      "outputs": [
        {
          "output_type": "stream",
          "name": "stdout",
          "text": [
            "Collecting ekphrasis\n",
            "  Downloading ekphrasis-0.5.1.tar.gz (80 kB)\n",
            "\u001b[?25l\r\u001b[K     |████                            | 10 kB 20.7 MB/s eta 0:00:01\r\u001b[K     |████████▏                       | 20 kB 28.3 MB/s eta 0:00:01\r\u001b[K     |████████████▎                   | 30 kB 28.0 MB/s eta 0:00:01\r\u001b[K     |████████████████▍               | 40 kB 20.9 MB/s eta 0:00:01\r\u001b[K     |████████████████████▌           | 51 kB 18.5 MB/s eta 0:00:01\r\u001b[K     |████████████████████████▌       | 61 kB 15.0 MB/s eta 0:00:01\r\u001b[K     |████████████████████████████▋   | 71 kB 14.4 MB/s eta 0:00:01\r\u001b[K     |████████████████████████████████| 80 kB 5.7 MB/s \n",
            "\u001b[?25hRequirement already satisfied: termcolor in /usr/local/lib/python3.7/dist-packages (from ekphrasis) (1.1.0)\n",
            "Requirement already satisfied: tqdm in /usr/local/lib/python3.7/dist-packages (from ekphrasis) (4.62.3)\n",
            "Collecting colorama\n",
            "  Downloading colorama-0.4.4-py2.py3-none-any.whl (16 kB)\n",
            "Collecting ujson\n",
            "  Downloading ujson-5.1.0-cp37-cp37m-manylinux_2_17_x86_64.manylinux2014_x86_64.whl (43 kB)\n",
            "\u001b[K     |████████████████████████████████| 43 kB 2.3 MB/s \n",
            "\u001b[?25hRequirement already satisfied: matplotlib in /usr/local/lib/python3.7/dist-packages (from ekphrasis) (3.2.2)\n",
            "Requirement already satisfied: nltk in /usr/local/lib/python3.7/dist-packages (from ekphrasis) (3.2.5)\n",
            "Collecting ftfy\n",
            "  Downloading ftfy-6.0.3.tar.gz (64 kB)\n",
            "\u001b[K     |████████████████████████████████| 64 kB 2.9 MB/s \n",
            "\u001b[?25hRequirement already satisfied: numpy in /usr/local/lib/python3.7/dist-packages (from ekphrasis) (1.19.5)\n",
            "Requirement already satisfied: wcwidth in /usr/local/lib/python3.7/dist-packages (from ftfy->ekphrasis) (0.2.5)\n",
            "Requirement already satisfied: python-dateutil>=2.1 in /usr/local/lib/python3.7/dist-packages (from matplotlib->ekphrasis) (2.8.2)\n",
            "Requirement already satisfied: pyparsing!=2.0.4,!=2.1.2,!=2.1.6,>=2.0.1 in /usr/local/lib/python3.7/dist-packages (from matplotlib->ekphrasis) (3.0.6)\n",
            "Requirement already satisfied: cycler>=0.10 in /usr/local/lib/python3.7/dist-packages (from matplotlib->ekphrasis) (0.11.0)\n",
            "Requirement already satisfied: kiwisolver>=1.0.1 in /usr/local/lib/python3.7/dist-packages (from matplotlib->ekphrasis) (1.3.2)\n",
            "Requirement already satisfied: six>=1.5 in /usr/local/lib/python3.7/dist-packages (from python-dateutil>=2.1->matplotlib->ekphrasis) (1.15.0)\n",
            "Building wheels for collected packages: ekphrasis, ftfy\n",
            "  Building wheel for ekphrasis (setup.py) ... \u001b[?25l\u001b[?25hdone\n",
            "  Created wheel for ekphrasis: filename=ekphrasis-0.5.1-py3-none-any.whl size=82842 sha256=05602fe1e77f417409eaa2733275c385641171e2507363478ef3f207c812bd5e\n",
            "  Stored in directory: /root/.cache/pip/wheels/f7/ec/0d/12659e32faf780546945d0120f2c8410eb3efb7426731da88f\n",
            "  Building wheel for ftfy (setup.py) ... \u001b[?25l\u001b[?25hdone\n",
            "  Created wheel for ftfy: filename=ftfy-6.0.3-py3-none-any.whl size=41933 sha256=776d54fc59da09c168abf227efe43b85407a34f02e3bbdc8ffef0939cd2529cc\n",
            "  Stored in directory: /root/.cache/pip/wheels/19/f5/38/273eb3b5e76dfd850619312f693716ac4518b498f5ffb6f56d\n",
            "Successfully built ekphrasis ftfy\n",
            "Installing collected packages: ujson, ftfy, colorama, ekphrasis\n",
            "Successfully installed colorama-0.4.4 ekphrasis-0.5.1 ftfy-6.0.3 ujson-5.1.0\n"
          ]
        }
      ],
      "source": [
        "#installing ekphrasis\n",
        "!pip install ekphrasis"
      ]
    },
    {
      "cell_type": "code",
      "execution_count": null,
      "metadata": {
        "id": "_6kGlI_HQcm_",
        "colab": {
          "base_uri": "https://localhost:8080/"
        },
        "outputId": "77942d73-e7ed-42c1-b03b-fd46c3c9bf20"
      },
      "outputs": [
        {
          "output_type": "stream",
          "name": "stdout",
          "text": [
            "Collecting tweet-preprocessor\n",
            "  Downloading tweet_preprocessor-0.6.0-py3-none-any.whl (27 kB)\n",
            "Installing collected packages: tweet-preprocessor\n",
            "Successfully installed tweet-preprocessor-0.6.0\n"
          ]
        }
      ],
      "source": [
        "#installing tweet-preprocessor\n",
        "!pip install tweet-preprocessor"
      ]
    },
    {
      "cell_type": "code",
      "execution_count": null,
      "metadata": {
        "id": "PPUjAyvkQxhR"
      },
      "outputs": [],
      "source": [
        "import preprocessor as p\n",
        "#forming a separate feature for cleaned tweets\n",
        "for i,v in enumerate(total_data['text']):\n",
        "    total_data.loc[i,'cleaned'] = p.clean(v) #code was wrong, corrected now"
      ]
    },
    {
      "cell_type": "code",
      "source": [
        "display(total_data)"
      ],
      "metadata": {
        "id": "1a9oUDekUciv"
      },
      "execution_count": null,
      "outputs": []
    },
    {
      "cell_type": "code",
      "execution_count": null,
      "metadata": {
        "id": "bVbSf3lbN2PI",
        "colab": {
          "base_uri": "https://localhost:8080/"
        },
        "outputId": "eeaa268e-a914-48ff-b2e1-1c3c5ecf8d1f"
      },
      "outputs": [
        {
          "output_type": "stream",
          "name": "stdout",
          "text": [
            "[nltk_data] Downloading package wordnet to /root/nltk_data...\n",
            "[nltk_data]   Unzipping corpora/wordnet.zip.\n",
            "[nltk_data] Downloading package stopwords to /root/nltk_data...\n",
            "[nltk_data]   Unzipping corpora/stopwords.zip.\n"
          ]
        }
      ],
      "source": [
        "#important libraries for preprocessing using NLTK\n",
        "import nltk\n",
        "from nltk import word_tokenize, FreqDist\n",
        "from nltk.corpus import stopwords\n",
        "from nltk.stem import WordNetLemmatizer\n",
        "nltk.download\n",
        "nltk.download('wordnet')\n",
        "nltk.download('stopwords')\n",
        "from nltk.tokenize import TweetTokenizer"
      ]
    },
    {
      "cell_type": "code",
      "execution_count": null,
      "metadata": {
        "id": "5kcOqAN3RpQM"
      },
      "outputs": [],
      "source": [
        "def preprocess_data(data):\n",
        " #removes numbers\n",
        " data = data.astype(str).str.replace('\\d+', '')\n",
        " # total_data['cleaned'] = data.str.lower()\n",
        " # data = data.str.lower()\n",
        " lemmatizer = nltk.stem.WordNetLemmatizer()\n",
        " w_tokenizer =  TweetTokenizer()\n",
        " \n",
        " def lemmatize_text(text):\n",
        "  return [(lemmatizer.lemmatize(w)) for w \\\n",
        "                       in w_tokenizer.tokenize((text))]\n",
        "\n",
        " def remove_punctuation(words):\n",
        "  new_words = []\n",
        "  for word in words:\n",
        "    new_word = re.sub(r'[^\\w\\s]', '', (word))\n",
        "    if new_word != '':\n",
        "        new_words.append(new_word)\n",
        "  return new_words\n",
        "\n",
        " words = data.apply(lemmatize_text)\n",
        " words = words.apply(remove_punctuation)\n",
        " return pd.DataFrame(words)"
      ]
    },
    {
      "cell_type": "code",
      "execution_count": null,
      "metadata": {
        "id": "D6No7lf1Ub3v"
      },
      "outputs": [],
      "source": [
        "pre_tweets = preprocess_data(total_data['cleaned'])\n",
        "total_data['cleaned'] = pre_tweets #tokenized tweets"
      ]
    },
    {
      "cell_type": "code",
      "execution_count": null,
      "metadata": {
        "id": "xnK3uaW9P8oE"
      },
      "outputs": [],
      "source": [
        "l = [] #list containing tweets with all tokens joined\n",
        "for lists in total_data['cleaned']:\n",
        "  l.append(' '.join(lists))"
      ]
    },
    {
      "cell_type": "code",
      "execution_count": null,
      "metadata": {
        "id": "7EAzleROQzlc",
        "colab": {
          "base_uri": "https://localhost:8080/",
          "height": 1000
        },
        "outputId": "9f33d498-18d8-47a0-af7c-1a9f55f7d1ae"
      },
      "outputs": [
        {
          "output_type": "display_data",
          "data": {
            "text/html": [
              "\n",
              "  <div id=\"df-91268bb9-759f-4c2e-80a7-a7acf55602af\">\n",
              "    <div class=\"colab-df-container\">\n",
              "      <div>\n",
              "<style scoped>\n",
              "    .dataframe tbody tr th:only-of-type {\n",
              "        vertical-align: middle;\n",
              "    }\n",
              "\n",
              "    .dataframe tbody tr th {\n",
              "        vertical-align: top;\n",
              "    }\n",
              "\n",
              "    .dataframe thead th {\n",
              "        text-align: right;\n",
              "    }\n",
              "</style>\n",
              "<table border=\"1\" class=\"dataframe\">\n",
              "  <thead>\n",
              "    <tr style=\"text-align: right;\">\n",
              "      <th></th>\n",
              "      <th>id</th>\n",
              "      <th>keyword</th>\n",
              "      <th>location</th>\n",
              "      <th>text</th>\n",
              "      <th>target</th>\n",
              "      <th>hashtag</th>\n",
              "      <th>cleaned</th>\n",
              "    </tr>\n",
              "  </thead>\n",
              "  <tbody>\n",
              "    <tr>\n",
              "      <th>0</th>\n",
              "      <td>0</td>\n",
              "      <td>ablaze</td>\n",
              "      <td>NaN</td>\n",
              "      <td>Communal violence in Bhainsa, Telangana. \"Ston...</td>\n",
              "      <td>1</td>\n",
              "      <td>[]</td>\n",
              "      <td>[Communal, violence, in, Bhainsa, Telangana, S...</td>\n",
              "    </tr>\n",
              "    <tr>\n",
              "      <th>1</th>\n",
              "      <td>1</td>\n",
              "      <td>ablaze</td>\n",
              "      <td>NaN</td>\n",
              "      <td>Telangana: Section 144 has been imposed in Bha...</td>\n",
              "      <td>1</td>\n",
              "      <td>[]</td>\n",
              "      <td>[Telangana, Section, ha, been, imposed, in, Bh...</td>\n",
              "    </tr>\n",
              "    <tr>\n",
              "      <th>2</th>\n",
              "      <td>2</td>\n",
              "      <td>ablaze</td>\n",
              "      <td>New York City</td>\n",
              "      <td>Arsonist sets cars ablaze at dealership https:...</td>\n",
              "      <td>1</td>\n",
              "      <td>[]</td>\n",
              "      <td>[Arsonist, set, car, ablaze, at, dealership]</td>\n",
              "    </tr>\n",
              "    <tr>\n",
              "      <th>3</th>\n",
              "      <td>3</td>\n",
              "      <td>ablaze</td>\n",
              "      <td>Morgantown, WV</td>\n",
              "      <td>Arsonist sets cars ablaze at dealership https:...</td>\n",
              "      <td>1</td>\n",
              "      <td>[]</td>\n",
              "      <td>[Arsonist, set, car, ablaze, at, dealership]</td>\n",
              "    </tr>\n",
              "    <tr>\n",
              "      <th>4</th>\n",
              "      <td>4</td>\n",
              "      <td>ablaze</td>\n",
              "      <td>NaN</td>\n",
              "      <td>\"Lord Jesus, your love brings freedom and pard...</td>\n",
              "      <td>0</td>\n",
              "      <td>[]</td>\n",
              "      <td>[Lord, Jesus, your, love, brings, freedom, and...</td>\n",
              "    </tr>\n",
              "    <tr>\n",
              "      <th>...</th>\n",
              "      <td>...</td>\n",
              "      <td>...</td>\n",
              "      <td>...</td>\n",
              "      <td>...</td>\n",
              "      <td>...</td>\n",
              "      <td>...</td>\n",
              "      <td>...</td>\n",
              "    </tr>\n",
              "    <tr>\n",
              "      <th>11365</th>\n",
              "      <td>11365</td>\n",
              "      <td>wrecked</td>\n",
              "      <td>Blue State in a red sea</td>\n",
              "      <td>Media should have warned us well in advance. T...</td>\n",
              "      <td>0</td>\n",
              "      <td>[]</td>\n",
              "      <td>[Media, should, have, warned, u, well, in, adv...</td>\n",
              "    </tr>\n",
              "    <tr>\n",
              "      <th>11366</th>\n",
              "      <td>11366</td>\n",
              "      <td>wrecked</td>\n",
              "      <td>arohaonces</td>\n",
              "      <td>i feel directly attacked 💀 i consider moonbin ...</td>\n",
              "      <td>0</td>\n",
              "      <td>[]</td>\n",
              "      <td>[i, feel, directly, attacked, i, consider, moo...</td>\n",
              "    </tr>\n",
              "    <tr>\n",
              "      <th>11367</th>\n",
              "      <td>11367</td>\n",
              "      <td>wrecked</td>\n",
              "      <td>🇵🇭</td>\n",
              "      <td>i feel directly attacked 💀 i consider moonbin ...</td>\n",
              "      <td>0</td>\n",
              "      <td>[]</td>\n",
              "      <td>[i, feel, directly, attacked, i, consider, moo...</td>\n",
              "    </tr>\n",
              "    <tr>\n",
              "      <th>11368</th>\n",
              "      <td>11368</td>\n",
              "      <td>wrecked</td>\n",
              "      <td>auroraborealis</td>\n",
              "      <td>ok who remember \"outcast\" nd the \"dora\" au?? T...</td>\n",
              "      <td>0</td>\n",
              "      <td>[]</td>\n",
              "      <td>[ok, who, remember, outcast, nd, the, dora, au...</td>\n",
              "    </tr>\n",
              "    <tr>\n",
              "      <th>11369</th>\n",
              "      <td>11369</td>\n",
              "      <td>wrecked</td>\n",
              "      <td>NaN</td>\n",
              "      <td>Jake Corway wrecked while running 14th at IRP.</td>\n",
              "      <td>1</td>\n",
              "      <td>[]</td>\n",
              "      <td>[Jake, Corway, wrecked, while, running, th, at...</td>\n",
              "    </tr>\n",
              "  </tbody>\n",
              "</table>\n",
              "<p>11370 rows × 7 columns</p>\n",
              "</div>\n",
              "      <button class=\"colab-df-convert\" onclick=\"convertToInteractive('df-91268bb9-759f-4c2e-80a7-a7acf55602af')\"\n",
              "              title=\"Convert this dataframe to an interactive table.\"\n",
              "              style=\"display:none;\">\n",
              "        \n",
              "  <svg xmlns=\"http://www.w3.org/2000/svg\" height=\"24px\"viewBox=\"0 0 24 24\"\n",
              "       width=\"24px\">\n",
              "    <path d=\"M0 0h24v24H0V0z\" fill=\"none\"/>\n",
              "    <path d=\"M18.56 5.44l.94 2.06.94-2.06 2.06-.94-2.06-.94-.94-2.06-.94 2.06-2.06.94zm-11 1L8.5 8.5l.94-2.06 2.06-.94-2.06-.94L8.5 2.5l-.94 2.06-2.06.94zm10 10l.94 2.06.94-2.06 2.06-.94-2.06-.94-.94-2.06-.94 2.06-2.06.94z\"/><path d=\"M17.41 7.96l-1.37-1.37c-.4-.4-.92-.59-1.43-.59-.52 0-1.04.2-1.43.59L10.3 9.45l-7.72 7.72c-.78.78-.78 2.05 0 2.83L4 21.41c.39.39.9.59 1.41.59.51 0 1.02-.2 1.41-.59l7.78-7.78 2.81-2.81c.8-.78.8-2.07 0-2.86zM5.41 20L4 18.59l7.72-7.72 1.47 1.35L5.41 20z\"/>\n",
              "  </svg>\n",
              "      </button>\n",
              "      \n",
              "  <style>\n",
              "    .colab-df-container {\n",
              "      display:flex;\n",
              "      flex-wrap:wrap;\n",
              "      gap: 12px;\n",
              "    }\n",
              "\n",
              "    .colab-df-convert {\n",
              "      background-color: #E8F0FE;\n",
              "      border: none;\n",
              "      border-radius: 50%;\n",
              "      cursor: pointer;\n",
              "      display: none;\n",
              "      fill: #1967D2;\n",
              "      height: 32px;\n",
              "      padding: 0 0 0 0;\n",
              "      width: 32px;\n",
              "    }\n",
              "\n",
              "    .colab-df-convert:hover {\n",
              "      background-color: #E2EBFA;\n",
              "      box-shadow: 0px 1px 2px rgba(60, 64, 67, 0.3), 0px 1px 3px 1px rgba(60, 64, 67, 0.15);\n",
              "      fill: #174EA6;\n",
              "    }\n",
              "\n",
              "    [theme=dark] .colab-df-convert {\n",
              "      background-color: #3B4455;\n",
              "      fill: #D2E3FC;\n",
              "    }\n",
              "\n",
              "    [theme=dark] .colab-df-convert:hover {\n",
              "      background-color: #434B5C;\n",
              "      box-shadow: 0px 1px 3px 1px rgba(0, 0, 0, 0.15);\n",
              "      filter: drop-shadow(0px 1px 2px rgba(0, 0, 0, 0.3));\n",
              "      fill: #FFFFFF;\n",
              "    }\n",
              "  </style>\n",
              "\n",
              "      <script>\n",
              "        const buttonEl =\n",
              "          document.querySelector('#df-91268bb9-759f-4c2e-80a7-a7acf55602af button.colab-df-convert');\n",
              "        buttonEl.style.display =\n",
              "          google.colab.kernel.accessAllowed ? 'block' : 'none';\n",
              "\n",
              "        async function convertToInteractive(key) {\n",
              "          const element = document.querySelector('#df-91268bb9-759f-4c2e-80a7-a7acf55602af');\n",
              "          const dataTable =\n",
              "            await google.colab.kernel.invokeFunction('convertToInteractive',\n",
              "                                                     [key], {});\n",
              "          if (!dataTable) return;\n",
              "\n",
              "          const docLinkHtml = 'Like what you see? Visit the ' +\n",
              "            '<a target=\"_blank\" href=https://colab.research.google.com/notebooks/data_table.ipynb>data table notebook</a>'\n",
              "            + ' to learn more about interactive tables.';\n",
              "          element.innerHTML = '';\n",
              "          dataTable['output_type'] = 'display_data';\n",
              "          await google.colab.output.renderOutput(dataTable, element);\n",
              "          const docLink = document.createElement('div');\n",
              "          docLink.innerHTML = docLinkHtml;\n",
              "          element.appendChild(docLink);\n",
              "        }\n",
              "      </script>\n",
              "    </div>\n",
              "  </div>\n",
              "  "
            ],
            "text/plain": [
              "          id  ...                                            cleaned\n",
              "0          0  ...  [Communal, violence, in, Bhainsa, Telangana, S...\n",
              "1          1  ...  [Telangana, Section, ha, been, imposed, in, Bh...\n",
              "2          2  ...       [Arsonist, set, car, ablaze, at, dealership]\n",
              "3          3  ...       [Arsonist, set, car, ablaze, at, dealership]\n",
              "4          4  ...  [Lord, Jesus, your, love, brings, freedom, and...\n",
              "...      ...  ...                                                ...\n",
              "11365  11365  ...  [Media, should, have, warned, u, well, in, adv...\n",
              "11366  11366  ...  [i, feel, directly, attacked, i, consider, moo...\n",
              "11367  11367  ...  [i, feel, directly, attacked, i, consider, moo...\n",
              "11368  11368  ...  [ok, who, remember, outcast, nd, the, dora, au...\n",
              "11369  11369  ...  [Jake, Corway, wrecked, while, running, th, at...\n",
              "\n",
              "[11370 rows x 7 columns]"
            ]
          },
          "metadata": {}
        }
      ],
      "source": [
        "display(total_data)"
      ]
    },
    {
      "cell_type": "markdown",
      "source": [
        "# **Module 2 - Machine Learning Model (Automated Tweets Classifier)**\n",
        "\n",
        "\n",
        "*   Classifying which tweets are disaster relevant and which aren't\n",
        "*   Using Bernoulli Naive Bayes Classifier (good for discrete & binary data)\n",
        "\n"
      ],
      "metadata": {
        "id": "RR63bpOwOJTw"
      }
    },
    {
      "cell_type": "code",
      "execution_count": null,
      "metadata": {
        "id": "uIdfqY50K43z"
      },
      "outputs": [],
      "source": [
        "#converts a collection of text documents to a matrix of token counts\n",
        "#used to transform a given text into a vector on the basis of the frequency (count) of each word that occurs in the entire text \n",
        "from sklearn.feature_extraction.text import CountVectorizer\n",
        "cv = CountVectorizer()\n",
        "x = cv.fit_transform(l).toarray()"
      ]
    },
    {
      "cell_type": "code",
      "execution_count": null,
      "metadata": {
        "id": "NtVwXVX7QYP_",
        "colab": {
          "base_uri": "https://localhost:8080/",
          "height": 156
        },
        "outputId": "b591ed84-0e12-4983-e1d5-4977d731ada5"
      },
      "outputs": [
        {
          "output_type": "display_data",
          "data": {
            "text/plain": [
              "array([[0, 0, 0, ..., 0, 0, 0],\n",
              "       [0, 0, 0, ..., 0, 0, 0],\n",
              "       [0, 0, 0, ..., 0, 0, 0],\n",
              "       ...,\n",
              "       [0, 0, 0, ..., 0, 0, 0],\n",
              "       [0, 0, 0, ..., 0, 0, 0],\n",
              "       [0, 0, 0, ..., 0, 0, 0]])"
            ]
          },
          "metadata": {}
        },
        {
          "output_type": "display_data",
          "data": {
            "text/plain": [
              "numpy.ndarray"
            ]
          },
          "metadata": {}
        }
      ],
      "source": [
        "display(x)\n",
        "display(type(x))"
      ]
    },
    {
      "cell_type": "code",
      "execution_count": null,
      "metadata": {
        "id": "Wop3AFIBJm2V"
      },
      "outputs": [],
      "source": [
        "#splitting current dataset into a train and test dataset (80%-20%)\n",
        "from sklearn.model_selection import train_test_split\n",
        "train_text , test_text , train_target , test_target = train_test_split(x, total_data['target'], test_size=0.2, random_state=2020)"
      ]
    },
    {
      "cell_type": "code",
      "execution_count": null,
      "metadata": {
        "id": "05wHKGAj_DCs",
        "colab": {
          "base_uri": "https://localhost:8080/"
        },
        "outputId": "da3e8e78-2f10-40df-a146-977768a8390a"
      },
      "outputs": [
        {
          "output_type": "stream",
          "name": "stdout",
          "text": [
            "<class 'numpy.ndarray'>\n"
          ]
        }
      ],
      "source": [
        "print(type(train_text))"
      ]
    },
    {
      "cell_type": "code",
      "execution_count": null,
      "metadata": {
        "id": "Pf40d8RAdt3P"
      },
      "outputs": [],
      "source": [
        "from sklearn import svm\n",
        "model = svm.SVC(kernel='linear')\n",
        "\n",
        "hist = model.fit(train_text, train_target)"
      ]
    },
    {
      "cell_type": "code",
      "execution_count": null,
      "metadata": {
        "id": "WlYcNUXmMSiA",
        "colab": {
          "base_uri": "https://localhost:8080/"
        },
        "outputId": "34f2cd2f-c323-429f-afdf-7ca903bb99b9"
      },
      "outputs": [
        {
          "output_type": "stream",
          "name": "stdout",
          "text": [
            "SVM Model Score:  0.886103781882146\n"
          ]
        }
      ],
      "source": [
        "from sklearn import metrics\n",
        "#get predictions\n",
        "model_pred = model.predict(test_text)\n",
        "\n",
        "#calculate the accuracy \n",
        "model_score = metrics.accuracy_score(test_target, model_pred)\n",
        "\n",
        "print('SVM Model Score: ', model_score)"
      ]
    },
    {
      "cell_type": "code",
      "execution_count": null,
      "metadata": {
        "id": "cCsdhYfxeccK",
        "colab": {
          "base_uri": "https://localhost:8080/",
          "height": 350
        },
        "outputId": "ee33f54a-0f73-4b8e-d1c4-5c5871810701"
      },
      "outputs": [
        {
          "output_type": "stream",
          "name": "stderr",
          "text": [
            "/usr/local/lib/python3.7/dist-packages/sklearn/utils/deprecation.py:87: FutureWarning: Function plot_confusion_matrix is deprecated; Function `plot_confusion_matrix` is deprecated in 1.0 and will be removed in 1.2. Use one of the class methods: ConfusionMatrixDisplay.from_predictions or ConfusionMatrixDisplay.from_estimator.\n",
            "  warnings.warn(msg, category=FutureWarning)\n"
          ]
        },
        {
          "output_type": "display_data",
          "data": {
            "image/png": "[encoded data removed]",
            "text/plain": [
              "<Figure size 432x288 with 2 Axes>"
            ]
          },
          "metadata": {
            "needs_background": "light"
          }
        }
      ],
      "source": [
        "#generate confusion matrix\n",
        "from sklearn.metrics import plot_confusion_matrix\n",
        "\n",
        "matrix = plot_confusion_matrix(hist, test_text, test_target, cmap=plt.cm.Blues, normalize='true')\n",
        "plt.title('Confusion matrix for our classifier')\n",
        "plt.show(matrix)\n",
        "plt.show()"
      ]
    },
    {
      "cell_type": "markdown",
      "source": [
        "# **Module 3 - Retrieval of Relevant Tweets**\n",
        "\n",
        "\n",
        "*   Creating a list of relevant tweets based on the predictions made by the machine learning model \n",
        "*   Relevant tweets are those with target value = 1\n",
        "\n",
        "\n"
      ],
      "metadata": {
        "id": "XsMHIOha9Bxm"
      }
    },
    {
      "cell_type": "code",
      "source": [
        "train_text1 , test_text1 , train_target1 , test_target1 = train_test_split(total_data, total_data['target'], test_size=0.2, random_state=2020) #split without CountVectorizing"
      ],
      "metadata": {
        "id": "y8asARYMuaKn"
      },
      "execution_count": null,
      "outputs": []
    },
    {
      "cell_type": "code",
      "source": [
        " print(test_text1.columns.values.tolist())\n",
        " test_text_ncv = test_text1.values.tolist()\n",
        " print(type(test_text_ncv))\n",
        " print(test_text_ncv[0])"
      ],
      "metadata": {
        "colab": {
          "base_uri": "https://localhost:8080/"
        },
        "id": "dASfdfu-wHwd",
        "outputId": "c73c5ce5-f3a4-45ca-fd17-7d142c5278f1"
      },
      "execution_count": null,
      "outputs": [
        {
          "output_type": "stream",
          "name": "stdout",
          "text": [
            "['id', 'keyword', 'location', 'text', 'target', 'hashtag', 'cleaned']\n",
            "<class 'list'>\n",
            "[2971, 'damage', 'Bangkok, Thailand', 'Nope! First he spoke what he thin… https://t.co/mPirnwMu2l', 0, [], ['Nope', 'First', 'he', 'spoke', 'what', 'he', 'thin']]\n"
          ]
        }
      ]
    },
    {
      "cell_type": "code",
      "source": [
        "#display number of relevant predictions\n",
        "count = 0\n",
        "for i in model_pred :\n",
        "  if i == 1 :\n",
        "    count += 1\n",
        "print(count)"
      ],
      "metadata": {
        "colab": {
          "base_uri": "https://localhost:8080/"
        },
        "id": "43OI2XcOi73o",
        "outputId": "6a1aebad-a13d-40f6-bdd1-a943d655d6f5"
      },
      "execution_count": null,
      "outputs": [
        {
          "output_type": "stream",
          "name": "stdout",
          "text": [
            "408\n"
          ]
        }
      ]
    },
    {
      "cell_type": "code",
      "source": [
        "#retrieve corresponding relevant tweets\n",
        "index = 0\n",
        "count = 0\n",
        "rel_tweets = []\n",
        "for i in model_pred :\n",
        "  index += 1\n",
        "  if i == 1 :\n",
        "    rel_tweets.append(test_text_ncv[index][6])\n",
        "    if test_text_ncv[index][4] == i:\n",
        "      count = count + 1"
      ],
      "metadata": {
        "id": "8-vvjukuj1Lg"
      },
      "execution_count": null,
      "outputs": []
    },
    {
      "cell_type": "code",
      "source": [
        "for tweet in rel_tweets :\n",
        "  tweet = ' '.join(tweet)"
      ],
      "metadata": {
        "id": "SB-H3VF6aJ7J"
      },
      "execution_count": null,
      "outputs": []
    },
    {
      "cell_type": "markdown",
      "source": [
        "# **Module 4 - Location Based Tweets - GeoTag**\n",
        "\n",
        "\n",
        "*   Parsing tweet text for locations (cities and countries)\n",
        "\n",
        "\n",
        "\n"
      ],
      "metadata": {
        "id": "QaoSi_K7lvQ-"
      }
    },
    {
      "cell_type": "code",
      "source": [
        "! pip install geotext"
      ],
      "metadata": {
        "colab": {
          "base_uri": "https://localhost:8080/"
        },
        "id": "IuwVOX-xUQhg",
        "outputId": "836c8697-31e9-43a4-811f-0162c8358c92"
      },
      "execution_count": null,
      "outputs": [
        {
          "output_type": "stream",
          "name": "stdout",
          "text": [
            "Requirement already satisfied: geotext in /usr/local/lib/python3.7/dist-packages (0.4.0)\n"
          ]
        }
      ]
    },
    {
      "cell_type": "code",
      "source": [
        "from geotext import GeoText"
      ],
      "metadata": {
        "id": "LX3w5wyEUAd8"
      },
      "execution_count": null,
      "outputs": []
    },
    {
      "cell_type": "code",
      "source": [
        "list_of_places = [] \n",
        "for tweet in rel_tweets :\n",
        "  list_of_places.append(GeoText(' '.join(tweet)))"
      ],
      "metadata": {
        "id": "U9DtPPUfHtKw"
      },
      "execution_count": null,
      "outputs": []
    },
    {
      "cell_type": "markdown",
      "source": [
        "# **Module 5 - Automatic Emergency Alerting Interface**\n",
        "\n",
        "\n",
        "*   Creating a dataframe with the affected places and their corresponding tweets\n",
        "*   Displaying a histogram depicting the areas most prone to disasters"
      ],
      "metadata": {
        "id": "lma0MhKZIa3Y"
      }
    },
    {
      "cell_type": "code",
      "source": [
        "places = []\n",
        "total = []\n",
        "corresponding_tweets = []\n",
        "i = 0\n",
        "for place in list_of_places:\n",
        "  if (len(place.countries) > 0):\n",
        "    places.append(place.countries)\n",
        "    corresponding_tweets.append(' '.join(rel_tweets[i]))\n",
        "    for p in place.countries:\n",
        "      total.append(p)\n",
        "\n",
        "  if (len(place.cities) > 0):\n",
        "    places.append(place.cities)\n",
        "    corresponding_tweets.append(' '.join(rel_tweets[i]))\n",
        "    for p in place.cities:\n",
        "      total.append(p)\n",
        "  \n",
        "  i = i + 1"
      ],
      "metadata": {
        "id": "5pyqJzKV8SNu"
      },
      "execution_count": null,
      "outputs": []
    },
    {
      "cell_type": "code",
      "source": [
        "print(places)\n",
        "print(corresponding_tweets)"
      ],
      "metadata": {
        "colab": {
          "base_uri": "https://localhost:8080/"
        },
        "id": "bp2GChQPGBKz",
        "outputId": "e5960802-7702-4422-984c-867f327bb1f2"
      },
      "execution_count": null,
      "outputs": [
        {
          "output_type": "stream",
          "name": "stdout",
          "text": [
            "[['Taal'], ['Puerto Rico'], ['Australia'], ['Ho'], ['Brent'], ['Lucknow'], ['Union'], ['Most'], ['Washington'], ['Venice'], ['Australia'], ['Japan'], ['Talisay'], ['Australia'], ['Kenya', 'India', 'Israel'], ['Of'], ['Olympia'], ['Clinton'], ['Denmark'], ['Israel'], ['Vienna'], ['India'], ['Man'], ['Philippines'], ['Batangas'], ['Phoenix'], ['La Grange'], ['India'], ['Surfers Paradise'], ['Police', 'Kota'], ['Goldsboro'], ['Abuja'], ['Fier'], ['Jersey City'], ['Auburn'], ['China', 'Thailand'], ['Zhuhai'], ['Libya'], ['France'], ['Dover'], ['Warren'], ['Hitchin'], ['Taal'], ['Police'], ['Thailand', 'China'], ['Chile'], ['Iran'], ['Taiwan'], ['Iran'], ['Man'], ['Paris'], ['Israel'], ['Obama'], ['India', 'India']]\n",
            "['Philippine authority are warning that a large dangerous eruption from the Taal volcano may be imminent after a t', 'Puerto Rico hit by another magnitude aftershock KYMA', 'Here we are in Australia in the middle of summer Trapped in our homesthe air outside filled with smoke from delib', 'Geez Mike They couldnt get their Landcruisers into the bush year ago so they burned it Ho', 'I think it an aftershock from s lyrical beat down Brent never recovered', 'Anti CAA ProtestrofRobin Verma released from Lucknow jail this morning He wa illegally detained brutally tortured', 'MEG issue Areal Flood Advisory for Alcorn Benton Prentiss Tippah Union MS till Jan AM CST', 'On Scorched Earth People Most of them have their own parallel platform when they enter a a movement', 'Washington ha an avalanche rescue goat His name is Mazama', 'Venice canal almost dry two month after severe flood', 'Why not use the resource to build a pipeline from water rich FNQ to drought stricken state Water in Australia is', 'In Tokyo Yeti Super SJT and ASTERISM Japan at Shibuya Cyclone February', 'EVELOPING Talisay mayor Gerry Natanauan ha requested the authority for a total lockdown of hi', 'feral camel culled in droughthit Australia', 'The Britain had tendered apology to other nation including Kenya but India is totally ignored Israel ha not yet forgot', 'Australians Are Waking Up To And Realizing That s Catastrophic And Abysmal Handing Of', 'The great snowstorm of didnt materialize overnight in the Olympia area a it did in other part of Puget Soun', 'You think they wouldve learned with Clinton getting annihilated after s', 'INFO Mads wa seen wearing a military uniform somewhere in Denmark for a new project', 'Iran Hit By Sandstorm Earthquake As They Plan To Attack Israel', 'After Austria had a long drought in I flew into Vienna to visit my partner while they studied', 'Tallest building demolished in India today at Kochi a per SC order Perfect implosion with absolutely no damage', 'Man this storm not playing', 'On of January in the Philippines started spewing lava forcing the evacuation of thousand of people', 'Batangas can survive', 'A young woman wa killed in a fire that engulfed at least one suburban Phoenix apartment early this morning', 'WEATHER ALERT Severe Thunderstorm Warning continues for La Grange NC until PM EST', 'If you reside in India you would not have suggested such a super equitable so', 'Three people were taken to hospital after two car collided in Surfers Paradise http', 'UP Police electrocuted arrested me for giving legal aid to antiCAA protestors Kota lawyer', 'WEATHER ALERT Severe Thunderstorm Warning continues for Goldsboro NC Mount Olive NC Elroy NC until PM EST', 'Hi I am Kuchi and Im hosting a blood drive in Abuja on the th of January for in partnership with the Nati', 'Ready for a whirlwind adventure Miles Alice Joe Hadwin are forced to go on the run when their parent are arrested Fier', 'A bomb found in the van used by the man and woman who attacked a kosher market and killed people in Jersey City in December', 'Should mention the Florida State team a well They annihilated everybody they played except Auburn who they', 'Neverbeforeseen virus in China outbreak kill one spread to Thailand', 'An explosion hit a petrochemical plant in Zhuhai south Chinas Guangdong Province on Tuesday No casualty were', 'If Obama didnt need congressional approval for all out war in Libya trump doe', 'She is spot on This ha to be stopped Dover MP demand refugee be immediately sent back to France', 'She is spot on This ha to be stopped Dover MP demand refugee be immediately sent back to France', 'Warren ha sunk to the level of cynical smear tactic Shes HRC She ha killed her campaign He', 'This freight train wa due into Hitchin at this morning and it wa then that the dera', 'This fuckery is making me nauseous I havent stopped thinking abt this since Taal erupted I cant find news about th', 'just fucking drown the little shit Police spat at in water park fracas a troublemaker threaten more to come', 'Chinese woman quarantined in Thailand is diagnosed with the same mystery virus that ha killed one person in China htt', 'Chile this message SCREAMS yall rubbed pussy before bye', 'Read this before you buy the propaganda that the government in Iran is unpopular The dishonest medium and people in our g', 'All country should treat Taiwan a a partner not an issue After being reelected on Saturday in a landslide Taiwanes', 'That bloody Iran plane missile story I tweeted evidence that it might have been an American missile Then the ba', 'Man charged after northeast motorist crash into boulder and rubble shed from lorry', 'When fire ravaged NotreDame Cathedral in Paris on April the whole world wa in shock that the heritage of this i', 'Forced to develop locally made missile fired from Apache helicopter after Obama halted sale to Israel in Israels', 'Forced to develop locally made missile fired from Apache helicopter after Obama halted sale to Israel in Israels', 'Indias sinking economy worlds third largest employer might move out of India fire India executive']\n"
          ]
        }
      ]
    },
    {
      "cell_type": "code",
      "source": [
        "df = pd.DataFrame(list(zip(places, corresponding_tweets)),\n",
        "               columns =['Countries/Cities', 'Corresponding Tweets'])"
      ],
      "metadata": {
        "id": "qTsaGDhLHQ72"
      },
      "execution_count": null,
      "outputs": []
    },
    {
      "cell_type": "code",
      "source": [
        "display(df)"
      ],
      "metadata": {
        "id": "6mksgR_qHduw",
        "colab": {
          "base_uri": "https://localhost:8080/",
          "height": 1000
        },
        "outputId": "c9ab06be-6f09-4c53-eece-b47b46e7014a"
      },
      "execution_count": null,
      "outputs": [
        {
          "output_type": "display_data",
          "data": {
            "text/html": [
              "\n",
              "  <div id=\"df-110b6d5b-2e81-4535-9a23-60a281010055\">\n",
              "    <div class=\"colab-df-container\">\n",
              "      <div>\n",
              "<style scoped>\n",
              "    .dataframe tbody tr th:only-of-type {\n",
              "        vertical-align: middle;\n",
              "    }\n",
              "\n",
              "    .dataframe tbody tr th {\n",
              "        vertical-align: top;\n",
              "    }\n",
              "\n",
              "    .dataframe thead th {\n",
              "        text-align: right;\n",
              "    }\n",
              "</style>\n",
              "<table border=\"1\" class=\"dataframe\">\n",
              "  <thead>\n",
              "    <tr style=\"text-align: right;\">\n",
              "      <th></th>\n",
              "      <th>Countries/Cities</th>\n",
              "      <th>Corresponding Tweets</th>\n",
              "    </tr>\n",
              "  </thead>\n",
              "  <tbody>\n",
              "    <tr>\n",
              "      <th>0</th>\n",
              "      <td>[Taal]</td>\n",
              "      <td>Philippine authority are warning that a large ...</td>\n",
              "    </tr>\n",
              "    <tr>\n",
              "      <th>1</th>\n",
              "      <td>[Puerto Rico]</td>\n",
              "      <td>Puerto Rico hit by another magnitude aftershoc...</td>\n",
              "    </tr>\n",
              "    <tr>\n",
              "      <th>2</th>\n",
              "      <td>[Australia]</td>\n",
              "      <td>Here we are in Australia in the middle of summ...</td>\n",
              "    </tr>\n",
              "    <tr>\n",
              "      <th>3</th>\n",
              "      <td>[Ho]</td>\n",
              "      <td>Geez Mike They couldnt get their Landcruisers ...</td>\n",
              "    </tr>\n",
              "    <tr>\n",
              "      <th>4</th>\n",
              "      <td>[Brent]</td>\n",
              "      <td>I think it an aftershock from s lyrical beat d...</td>\n",
              "    </tr>\n",
              "    <tr>\n",
              "      <th>5</th>\n",
              "      <td>[Lucknow]</td>\n",
              "      <td>Anti CAA ProtestrofRobin Verma released from L...</td>\n",
              "    </tr>\n",
              "    <tr>\n",
              "      <th>6</th>\n",
              "      <td>[Union]</td>\n",
              "      <td>MEG issue Areal Flood Advisory for Alcorn Bent...</td>\n",
              "    </tr>\n",
              "    <tr>\n",
              "      <th>7</th>\n",
              "      <td>[Most]</td>\n",
              "      <td>On Scorched Earth People Most of them have the...</td>\n",
              "    </tr>\n",
              "    <tr>\n",
              "      <th>8</th>\n",
              "      <td>[Washington]</td>\n",
              "      <td>Washington ha an avalanche rescue goat His nam...</td>\n",
              "    </tr>\n",
              "    <tr>\n",
              "      <th>9</th>\n",
              "      <td>[Venice]</td>\n",
              "      <td>Venice canal almost dry two month after severe...</td>\n",
              "    </tr>\n",
              "    <tr>\n",
              "      <th>10</th>\n",
              "      <td>[Australia]</td>\n",
              "      <td>Why not use the resource to build a pipeline f...</td>\n",
              "    </tr>\n",
              "    <tr>\n",
              "      <th>11</th>\n",
              "      <td>[Japan]</td>\n",
              "      <td>In Tokyo Yeti Super SJT and ASTERISM Japan at ...</td>\n",
              "    </tr>\n",
              "    <tr>\n",
              "      <th>12</th>\n",
              "      <td>[Talisay]</td>\n",
              "      <td>EVELOPING Talisay mayor Gerry Natanauan ha req...</td>\n",
              "    </tr>\n",
              "    <tr>\n",
              "      <th>13</th>\n",
              "      <td>[Australia]</td>\n",
              "      <td>feral camel culled in droughthit Australia</td>\n",
              "    </tr>\n",
              "    <tr>\n",
              "      <th>14</th>\n",
              "      <td>[Kenya, India, Israel]</td>\n",
              "      <td>The Britain had tendered apology to other nati...</td>\n",
              "    </tr>\n",
              "    <tr>\n",
              "      <th>15</th>\n",
              "      <td>[Of]</td>\n",
              "      <td>Australians Are Waking Up To And Realizing Tha...</td>\n",
              "    </tr>\n",
              "    <tr>\n",
              "      <th>16</th>\n",
              "      <td>[Olympia]</td>\n",
              "      <td>The great snowstorm of didnt materialize overn...</td>\n",
              "    </tr>\n",
              "    <tr>\n",
              "      <th>17</th>\n",
              "      <td>[Clinton]</td>\n",
              "      <td>You think they wouldve learned with Clinton ge...</td>\n",
              "    </tr>\n",
              "    <tr>\n",
              "      <th>18</th>\n",
              "      <td>[Denmark]</td>\n",
              "      <td>INFO Mads wa seen wearing a military uniform s...</td>\n",
              "    </tr>\n",
              "    <tr>\n",
              "      <th>19</th>\n",
              "      <td>[Israel]</td>\n",
              "      <td>Iran Hit By Sandstorm Earthquake As They Plan ...</td>\n",
              "    </tr>\n",
              "    <tr>\n",
              "      <th>20</th>\n",
              "      <td>[Vienna]</td>\n",
              "      <td>After Austria had a long drought in I flew int...</td>\n",
              "    </tr>\n",
              "    <tr>\n",
              "      <th>21</th>\n",
              "      <td>[India]</td>\n",
              "      <td>Tallest building demolished in India today at ...</td>\n",
              "    </tr>\n",
              "    <tr>\n",
              "      <th>22</th>\n",
              "      <td>[Man]</td>\n",
              "      <td>Man this storm not playing</td>\n",
              "    </tr>\n",
              "    <tr>\n",
              "      <th>23</th>\n",
              "      <td>[Philippines]</td>\n",
              "      <td>On of January in the Philippines started spewi...</td>\n",
              "    </tr>\n",
              "    <tr>\n",
              "      <th>24</th>\n",
              "      <td>[Batangas]</td>\n",
              "      <td>Batangas can survive</td>\n",
              "    </tr>\n",
              "    <tr>\n",
              "      <th>25</th>\n",
              "      <td>[Phoenix]</td>\n",
              "      <td>A young woman wa killed in a fire that engulfe...</td>\n",
              "    </tr>\n",
              "    <tr>\n",
              "      <th>26</th>\n",
              "      <td>[La Grange]</td>\n",
              "      <td>WEATHER ALERT Severe Thunderstorm Warning cont...</td>\n",
              "    </tr>\n",
              "    <tr>\n",
              "      <th>27</th>\n",
              "      <td>[India]</td>\n",
              "      <td>If you reside in India you would not have sugg...</td>\n",
              "    </tr>\n",
              "    <tr>\n",
              "      <th>28</th>\n",
              "      <td>[Surfers Paradise]</td>\n",
              "      <td>Three people were taken to hospital after two ...</td>\n",
              "    </tr>\n",
              "    <tr>\n",
              "      <th>29</th>\n",
              "      <td>[Police, Kota]</td>\n",
              "      <td>UP Police electrocuted arrested me for giving ...</td>\n",
              "    </tr>\n",
              "    <tr>\n",
              "      <th>30</th>\n",
              "      <td>[Goldsboro]</td>\n",
              "      <td>WEATHER ALERT Severe Thunderstorm Warning cont...</td>\n",
              "    </tr>\n",
              "    <tr>\n",
              "      <th>31</th>\n",
              "      <td>[Abuja]</td>\n",
              "      <td>Hi I am Kuchi and Im hosting a blood drive in ...</td>\n",
              "    </tr>\n",
              "    <tr>\n",
              "      <th>32</th>\n",
              "      <td>[Fier]</td>\n",
              "      <td>Ready for a whirlwind adventure Miles Alice Jo...</td>\n",
              "    </tr>\n",
              "    <tr>\n",
              "      <th>33</th>\n",
              "      <td>[Jersey City]</td>\n",
              "      <td>A bomb found in the van used by the man and wo...</td>\n",
              "    </tr>\n",
              "    <tr>\n",
              "      <th>34</th>\n",
              "      <td>[Auburn]</td>\n",
              "      <td>Should mention the Florida State team a well T...</td>\n",
              "    </tr>\n",
              "    <tr>\n",
              "      <th>35</th>\n",
              "      <td>[China, Thailand]</td>\n",
              "      <td>Neverbeforeseen virus in China outbreak kill o...</td>\n",
              "    </tr>\n",
              "    <tr>\n",
              "      <th>36</th>\n",
              "      <td>[Zhuhai]</td>\n",
              "      <td>An explosion hit a petrochemical plant in Zhuh...</td>\n",
              "    </tr>\n",
              "    <tr>\n",
              "      <th>37</th>\n",
              "      <td>[Libya]</td>\n",
              "      <td>If Obama didnt need congressional approval for...</td>\n",
              "    </tr>\n",
              "    <tr>\n",
              "      <th>38</th>\n",
              "      <td>[France]</td>\n",
              "      <td>She is spot on This ha to be stopped Dover MP ...</td>\n",
              "    </tr>\n",
              "    <tr>\n",
              "      <th>39</th>\n",
              "      <td>[Dover]</td>\n",
              "      <td>She is spot on This ha to be stopped Dover MP ...</td>\n",
              "    </tr>\n",
              "    <tr>\n",
              "      <th>40</th>\n",
              "      <td>[Warren]</td>\n",
              "      <td>Warren ha sunk to the level of cynical smear t...</td>\n",
              "    </tr>\n",
              "    <tr>\n",
              "      <th>41</th>\n",
              "      <td>[Hitchin]</td>\n",
              "      <td>This freight train wa due into Hitchin at this...</td>\n",
              "    </tr>\n",
              "    <tr>\n",
              "      <th>42</th>\n",
              "      <td>[Taal]</td>\n",
              "      <td>This fuckery is making me nauseous I havent st...</td>\n",
              "    </tr>\n",
              "    <tr>\n",
              "      <th>43</th>\n",
              "      <td>[Police]</td>\n",
              "      <td>just fucking drown the little shit Police spat...</td>\n",
              "    </tr>\n",
              "    <tr>\n",
              "      <th>44</th>\n",
              "      <td>[Thailand, China]</td>\n",
              "      <td>Chinese woman quarantined in Thailand is diagn...</td>\n",
              "    </tr>\n",
              "    <tr>\n",
              "      <th>45</th>\n",
              "      <td>[Chile]</td>\n",
              "      <td>Chile this message SCREAMS yall rubbed pussy b...</td>\n",
              "    </tr>\n",
              "    <tr>\n",
              "      <th>46</th>\n",
              "      <td>[Iran]</td>\n",
              "      <td>Read this before you buy the propaganda that t...</td>\n",
              "    </tr>\n",
              "    <tr>\n",
              "      <th>47</th>\n",
              "      <td>[Taiwan]</td>\n",
              "      <td>All country should treat Taiwan a a partner no...</td>\n",
              "    </tr>\n",
              "    <tr>\n",
              "      <th>48</th>\n",
              "      <td>[Iran]</td>\n",
              "      <td>That bloody Iran plane missile story I tweeted...</td>\n",
              "    </tr>\n",
              "    <tr>\n",
              "      <th>49</th>\n",
              "      <td>[Man]</td>\n",
              "      <td>Man charged after northeast motorist crash int...</td>\n",
              "    </tr>\n",
              "    <tr>\n",
              "      <th>50</th>\n",
              "      <td>[Paris]</td>\n",
              "      <td>When fire ravaged NotreDame Cathedral in Paris...</td>\n",
              "    </tr>\n",
              "    <tr>\n",
              "      <th>51</th>\n",
              "      <td>[Israel]</td>\n",
              "      <td>Forced to develop locally made missile fired f...</td>\n",
              "    </tr>\n",
              "    <tr>\n",
              "      <th>52</th>\n",
              "      <td>[Obama]</td>\n",
              "      <td>Forced to develop locally made missile fired f...</td>\n",
              "    </tr>\n",
              "    <tr>\n",
              "      <th>53</th>\n",
              "      <td>[India, India]</td>\n",
              "      <td>Indias sinking economy worlds third largest em...</td>\n",
              "    </tr>\n",
              "  </tbody>\n",
              "</table>\n",
              "</div>\n",
              "      <button class=\"colab-df-convert\" onclick=\"convertToInteractive('df-110b6d5b-2e81-4535-9a23-60a281010055')\"\n",
              "              title=\"Convert this dataframe to an interactive table.\"\n",
              "              style=\"display:none;\">\n",
              "        \n",
              "  <svg xmlns=\"http://www.w3.org/2000/svg\" height=\"24px\"viewBox=\"0 0 24 24\"\n",
              "       width=\"24px\">\n",
              "    <path d=\"M0 0h24v24H0V0z\" fill=\"none\"/>\n",
              "    <path d=\"M18.56 5.44l.94 2.06.94-2.06 2.06-.94-2.06-.94-.94-2.06-.94 2.06-2.06.94zm-11 1L8.5 8.5l.94-2.06 2.06-.94-2.06-.94L8.5 2.5l-.94 2.06-2.06.94zm10 10l.94 2.06.94-2.06 2.06-.94-2.06-.94-.94-2.06-.94 2.06-2.06.94z\"/><path d=\"M17.41 7.96l-1.37-1.37c-.4-.4-.92-.59-1.43-.59-.52 0-1.04.2-1.43.59L10.3 9.45l-7.72 7.72c-.78.78-.78 2.05 0 2.83L4 21.41c.39.39.9.59 1.41.59.51 0 1.02-.2 1.41-.59l7.78-7.78 2.81-2.81c.8-.78.8-2.07 0-2.86zM5.41 20L4 18.59l7.72-7.72 1.47 1.35L5.41 20z\"/>\n",
              "  </svg>\n",
              "      </button>\n",
              "      \n",
              "  <style>\n",
              "    .colab-df-container {\n",
              "      display:flex;\n",
              "      flex-wrap:wrap;\n",
              "      gap: 12px;\n",
              "    }\n",
              "\n",
              "    .colab-df-convert {\n",
              "      background-color: #E8F0FE;\n",
              "      border: none;\n",
              "      border-radius: 50%;\n",
              "      cursor: pointer;\n",
              "      display: none;\n",
              "      fill: #1967D2;\n",
              "      height: 32px;\n",
              "      padding: 0 0 0 0;\n",
              "      width: 32px;\n",
              "    }\n",
              "\n",
              "    .colab-df-convert:hover {\n",
              "      background-color: #E2EBFA;\n",
              "      box-shadow: 0px 1px 2px rgba(60, 64, 67, 0.3), 0px 1px 3px 1px rgba(60, 64, 67, 0.15);\n",
              "      fill: #174EA6;\n",
              "    }\n",
              "\n",
              "    [theme=dark] .colab-df-convert {\n",
              "      background-color: #3B4455;\n",
              "      fill: #D2E3FC;\n",
              "    }\n",
              "\n",
              "    [theme=dark] .colab-df-convert:hover {\n",
              "      background-color: #434B5C;\n",
              "      box-shadow: 0px 1px 3px 1px rgba(0, 0, 0, 0.15);\n",
              "      filter: drop-shadow(0px 1px 2px rgba(0, 0, 0, 0.3));\n",
              "      fill: #FFFFFF;\n",
              "    }\n",
              "  </style>\n",
              "\n",
              "      <script>\n",
              "        const buttonEl =\n",
              "          document.querySelector('#df-110b6d5b-2e81-4535-9a23-60a281010055 button.colab-df-convert');\n",
              "        buttonEl.style.display =\n",
              "          google.colab.kernel.accessAllowed ? 'block' : 'none';\n",
              "\n",
              "        async function convertToInteractive(key) {\n",
              "          const element = document.querySelector('#df-110b6d5b-2e81-4535-9a23-60a281010055');\n",
              "          const dataTable =\n",
              "            await google.colab.kernel.invokeFunction('convertToInteractive',\n",
              "                                                     [key], {});\n",
              "          if (!dataTable) return;\n",
              "\n",
              "          const docLinkHtml = 'Like what you see? Visit the ' +\n",
              "            '<a target=\"_blank\" href=https://colab.research.google.com/notebooks/data_table.ipynb>data table notebook</a>'\n",
              "            + ' to learn more about interactive tables.';\n",
              "          element.innerHTML = '';\n",
              "          dataTable['output_type'] = 'display_data';\n",
              "          await google.colab.output.renderOutput(dataTable, element);\n",
              "          const docLink = document.createElement('div');\n",
              "          docLink.innerHTML = docLinkHtml;\n",
              "          element.appendChild(docLink);\n",
              "        }\n",
              "      </script>\n",
              "    </div>\n",
              "  </div>\n",
              "  "
            ],
            "text/plain": [
              "          Countries/Cities                               Corresponding Tweets\n",
              "0                   [Taal]  Philippine authority are warning that a large ...\n",
              "1            [Puerto Rico]  Puerto Rico hit by another magnitude aftershoc...\n",
              "2              [Australia]  Here we are in Australia in the middle of summ...\n",
              "3                     [Ho]  Geez Mike They couldnt get their Landcruisers ...\n",
              "4                  [Brent]  I think it an aftershock from s lyrical beat d...\n",
              "5                [Lucknow]  Anti CAA ProtestrofRobin Verma released from L...\n",
              "6                  [Union]  MEG issue Areal Flood Advisory for Alcorn Bent...\n",
              "7                   [Most]  On Scorched Earth People Most of them have the...\n",
              "8             [Washington]  Washington ha an avalanche rescue goat His nam...\n",
              "9                 [Venice]  Venice canal almost dry two month after severe...\n",
              "10             [Australia]  Why not use the resource to build a pipeline f...\n",
              "11                 [Japan]  In Tokyo Yeti Super SJT and ASTERISM Japan at ...\n",
              "12               [Talisay]  EVELOPING Talisay mayor Gerry Natanauan ha req...\n",
              "13             [Australia]         feral camel culled in droughthit Australia\n",
              "14  [Kenya, India, Israel]  The Britain had tendered apology to other nati...\n",
              "15                    [Of]  Australians Are Waking Up To And Realizing Tha...\n",
              "16               [Olympia]  The great snowstorm of didnt materialize overn...\n",
              "17               [Clinton]  You think they wouldve learned with Clinton ge...\n",
              "18               [Denmark]  INFO Mads wa seen wearing a military uniform s...\n",
              "19                [Israel]  Iran Hit By Sandstorm Earthquake As They Plan ...\n",
              "20                [Vienna]  After Austria had a long drought in I flew int...\n",
              "21                 [India]  Tallest building demolished in India today at ...\n",
              "22                   [Man]                         Man this storm not playing\n",
              "23           [Philippines]  On of January in the Philippines started spewi...\n",
              "24              [Batangas]                               Batangas can survive\n",
              "25               [Phoenix]  A young woman wa killed in a fire that engulfe...\n",
              "26             [La Grange]  WEATHER ALERT Severe Thunderstorm Warning cont...\n",
              "27                 [India]  If you reside in India you would not have sugg...\n",
              "28      [Surfers Paradise]  Three people were taken to hospital after two ...\n",
              "29          [Police, Kota]  UP Police electrocuted arrested me for giving ...\n",
              "30             [Goldsboro]  WEATHER ALERT Severe Thunderstorm Warning cont...\n",
              "31                 [Abuja]  Hi I am Kuchi and Im hosting a blood drive in ...\n",
              "32                  [Fier]  Ready for a whirlwind adventure Miles Alice Jo...\n",
              "33           [Jersey City]  A bomb found in the van used by the man and wo...\n",
              "34                [Auburn]  Should mention the Florida State team a well T...\n",
              "35       [China, Thailand]  Neverbeforeseen virus in China outbreak kill o...\n",
              "36                [Zhuhai]  An explosion hit a petrochemical plant in Zhuh...\n",
              "37                 [Libya]  If Obama didnt need congressional approval for...\n",
              "38                [France]  She is spot on This ha to be stopped Dover MP ...\n",
              "39                 [Dover]  She is spot on This ha to be stopped Dover MP ...\n",
              "40                [Warren]  Warren ha sunk to the level of cynical smear t...\n",
              "41               [Hitchin]  This freight train wa due into Hitchin at this...\n",
              "42                  [Taal]  This fuckery is making me nauseous I havent st...\n",
              "43                [Police]  just fucking drown the little shit Police spat...\n",
              "44       [Thailand, China]  Chinese woman quarantined in Thailand is diagn...\n",
              "45                 [Chile]  Chile this message SCREAMS yall rubbed pussy b...\n",
              "46                  [Iran]  Read this before you buy the propaganda that t...\n",
              "47                [Taiwan]  All country should treat Taiwan a a partner no...\n",
              "48                  [Iran]  That bloody Iran plane missile story I tweeted...\n",
              "49                   [Man]  Man charged after northeast motorist crash int...\n",
              "50                 [Paris]  When fire ravaged NotreDame Cathedral in Paris...\n",
              "51                [Israel]  Forced to develop locally made missile fired f...\n",
              "52                 [Obama]  Forced to develop locally made missile fired f...\n",
              "53          [India, India]  Indias sinking economy worlds third largest em..."
            ]
          },
          "metadata": {}
        }
      ]
    },
    {
      "cell_type": "code",
      "source": [
        "countries = []\n",
        "for places in list_of_places :\n",
        "  for country in places.countries :\n",
        "    countries.append(country)\n",
        "\n",
        "cities = []\n",
        "for places in list_of_places :\n",
        "  for city in places.cities :\n",
        "    cities.append(city)"
      ],
      "metadata": {
        "id": "_s9V8Z3YHJ5b"
      },
      "execution_count": null,
      "outputs": []
    },
    {
      "cell_type": "code",
      "source": [
        "print(\"COUNTRIES WITH DISASTERS:\")\n",
        "for country in countries :\n",
        "    print(country)\n",
        "print(\"\\nCITIES WITH DISASTERS:\")\n",
        "for city in cities :\n",
        "    print(city)"
      ],
      "metadata": {
        "colab": {
          "base_uri": "https://localhost:8080/"
        },
        "id": "dbly5HMoVtPp",
        "outputId": "408e8ad8-9e17-48f4-9582-e7508536fc8e"
      },
      "execution_count": null,
      "outputs": [
        {
          "output_type": "stream",
          "name": "stdout",
          "text": [
            "COUNTRIES WITH DISASTERS:\n",
            "Puerto Rico\n",
            "Australia\n",
            "Australia\n",
            "Japan\n",
            "Australia\n",
            "Kenya\n",
            "India\n",
            "Israel\n",
            "Denmark\n",
            "Israel\n",
            "India\n",
            "Philippines\n",
            "India\n",
            "China\n",
            "Thailand\n",
            "Libya\n",
            "France\n",
            "Thailand\n",
            "China\n",
            "Chile\n",
            "Iran\n",
            "Taiwan\n",
            "Iran\n",
            "Israel\n",
            "India\n",
            "India\n",
            "\n",
            "CITIES WITH DISASTERS:\n",
            "Taal\n",
            "Ho\n",
            "Brent\n",
            "Lucknow\n",
            "Union\n",
            "Most\n",
            "Washington\n",
            "Venice\n",
            "Talisay\n",
            "Of\n",
            "Olympia\n",
            "Clinton\n",
            "Vienna\n",
            "Man\n",
            "Batangas\n",
            "Phoenix\n",
            "La Grange\n",
            "Surfers Paradise\n",
            "Police\n",
            "Kota\n",
            "Goldsboro\n",
            "Abuja\n",
            "Fier\n",
            "Jersey City\n",
            "Auburn\n",
            "Zhuhai\n",
            "Dover\n",
            "Warren\n",
            "Hitchin\n",
            "Taal\n",
            "Police\n",
            "Man\n",
            "Paris\n",
            "Obama\n"
          ]
        }
      ]
    },
    {
      "cell_type": "code",
      "source": [
        "df = pd.DataFrame(list(zip(countries, cities)),\n",
        "               columns =['Countries', 'Cities'])\n",
        "fig, ax = plt.subplots()\n",
        "df['Countries'].value_counts().plot(ax=ax, kind='bar')\n",
        "plt.show() #country-wise"
      ],
      "metadata": {
        "colab": {
          "base_uri": "https://localhost:8080/",
          "height": 312
        },
        "id": "4JcLEpIZvAK9",
        "outputId": "52268e6d-b6e3-4c26-f89f-a59420c44bc0"
      },
      "execution_count": null,
      "outputs": [
        {
          "output_type": "display_data",
          "data": {
            "image/png": "[encoded data removed]",
            "text/plain": [
              "<Figure size 432x288 with 1 Axes>"
            ]
          },
          "metadata": {
            "needs_background": "light"
          }
        }
      ]
    },
    {
      "cell_type": "code",
      "source": [
        "df1 = pd.DataFrame(list(zip(total)),\n",
        "               columns =['Countries/Cities'])"
      ],
      "metadata": {
        "id": "BAdyfeY8Fi0d"
      },
      "execution_count": null,
      "outputs": []
    },
    {
      "cell_type": "code",
      "source": [
        "fig, ax = plt.subplots()\n",
        "df1['Countries/Cities'].value_counts().plot(ax=ax, kind='bar')\n",
        "plt.show() #countries and cities together"
      ],
      "metadata": {
        "colab": {
          "base_uri": "https://localhost:8080/",
          "height": 337
        },
        "outputId": "7c22083f-7536-48e1-ee5c-68dc4a0e0845",
        "id": "QwwD_eNbRs5e"
      },
      "execution_count": null,
      "outputs": [
        {
          "output_type": "display_data",
          "data": {
            "image/png": "[encoded data removed]",
            "text/plain": [
              "<Figure size 432x288 with 1 Axes>"
            ]
          },
          "metadata": {
            "needs_background": "light"
          }
        }
      ]
    }
  ],
  "metadata": {
    "colab": {
      "collapsed_sections": [],
      "name": "Team13_SVM.ipynb",
      "provenance": [],
      "include_colab_link": true
    },
    "kernelspec": {
      "display_name": "Python 3",
      "name": "python3"
    },
    "language_info": {
      "name": "python"
    }
  },
  "nbformat": 4,
  "nbformat_minor": 0
}